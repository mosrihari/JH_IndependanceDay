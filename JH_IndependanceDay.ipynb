{
  "nbformat": 4,
  "nbformat_minor": 0,
  "metadata": {
    "colab": {
      "name": "JH_IndependanceDay.ipynb",
      "provenance": [],
      "collapsed_sections": [],
      "toc_visible": true
    },
    "kernelspec": {
      "name": "python3",
      "display_name": "Python 3"
    },
    "accelerator": "GPU"
  },
  "cells": [
    {
      "cell_type": "code",
      "metadata": {
        "id": "R3RAnw_nUhdy",
        "colab_type": "code",
        "colab": {}
      },
      "source": [
        "import pandas as pd\n",
        "import numpy as np"
      ],
      "execution_count": null,
      "outputs": []
    },
    {
      "cell_type": "code",
      "metadata": {
        "id": "tF2JVCmzUpme",
        "colab_type": "code",
        "colab": {}
      },
      "source": [
        "train = pd.read_csv(\"/content/drive/My Drive/JH_independanceDay/train.csv\")\n",
        "test = pd.read_csv(\"/content/drive/My Drive/JH_independanceDay/test.csv\")"
      ],
      "execution_count": null,
      "outputs": []
    },
    {
      "cell_type": "code",
      "metadata": {
        "id": "KukMjUt7UwQW",
        "colab_type": "code",
        "colab": {
          "base_uri": "https://localhost:8080/",
          "height": 296
        },
        "outputId": "27d49dc9-9d4f-4175-bec0-bf015611abae"
      },
      "source": [
        "train.head()"
      ],
      "execution_count": null,
      "outputs": [
        {
          "output_type": "execute_result",
          "data": {
            "text/html": [
              "<div>\n",
              "<style scoped>\n",
              "    .dataframe tbody tr th:only-of-type {\n",
              "        vertical-align: middle;\n",
              "    }\n",
              "\n",
              "    .dataframe tbody tr th {\n",
              "        vertical-align: top;\n",
              "    }\n",
              "\n",
              "    .dataframe thead th {\n",
              "        text-align: right;\n",
              "    }\n",
              "</style>\n",
              "<table border=\"1\" class=\"dataframe\">\n",
              "  <thead>\n",
              "    <tr style=\"text-align: right;\">\n",
              "      <th></th>\n",
              "      <th>ID</th>\n",
              "      <th>TITLE</th>\n",
              "      <th>ABSTRACT</th>\n",
              "      <th>Computer Science</th>\n",
              "      <th>Physics</th>\n",
              "      <th>Mathematics</th>\n",
              "      <th>Statistics</th>\n",
              "      <th>Quantitative Biology</th>\n",
              "      <th>Quantitative Finance</th>\n",
              "    </tr>\n",
              "  </thead>\n",
              "  <tbody>\n",
              "    <tr>\n",
              "      <th>0</th>\n",
              "      <td>1</td>\n",
              "      <td>Reconstructing Subject-Specific Effect Maps</td>\n",
              "      <td>Predictive models allow subject-specific inf...</td>\n",
              "      <td>1</td>\n",
              "      <td>0</td>\n",
              "      <td>0</td>\n",
              "      <td>0</td>\n",
              "      <td>0</td>\n",
              "      <td>0</td>\n",
              "    </tr>\n",
              "    <tr>\n",
              "      <th>1</th>\n",
              "      <td>2</td>\n",
              "      <td>Rotation Invariance Neural Network</td>\n",
              "      <td>Rotation invariance and translation invarian...</td>\n",
              "      <td>1</td>\n",
              "      <td>0</td>\n",
              "      <td>0</td>\n",
              "      <td>0</td>\n",
              "      <td>0</td>\n",
              "      <td>0</td>\n",
              "    </tr>\n",
              "    <tr>\n",
              "      <th>2</th>\n",
              "      <td>3</td>\n",
              "      <td>Spherical polyharmonics and Poisson kernels fo...</td>\n",
              "      <td>We introduce and develop the notion of spher...</td>\n",
              "      <td>0</td>\n",
              "      <td>0</td>\n",
              "      <td>1</td>\n",
              "      <td>0</td>\n",
              "      <td>0</td>\n",
              "      <td>0</td>\n",
              "    </tr>\n",
              "    <tr>\n",
              "      <th>3</th>\n",
              "      <td>4</td>\n",
              "      <td>A finite element approximation for the stochas...</td>\n",
              "      <td>The stochastic Landau--Lifshitz--Gilbert (LL...</td>\n",
              "      <td>0</td>\n",
              "      <td>0</td>\n",
              "      <td>1</td>\n",
              "      <td>0</td>\n",
              "      <td>0</td>\n",
              "      <td>0</td>\n",
              "    </tr>\n",
              "    <tr>\n",
              "      <th>4</th>\n",
              "      <td>5</td>\n",
              "      <td>Comparative study of Discrete Wavelet Transfor...</td>\n",
              "      <td>Fourier-transform infra-red (FTIR) spectra o...</td>\n",
              "      <td>1</td>\n",
              "      <td>0</td>\n",
              "      <td>0</td>\n",
              "      <td>1</td>\n",
              "      <td>0</td>\n",
              "      <td>0</td>\n",
              "    </tr>\n",
              "  </tbody>\n",
              "</table>\n",
              "</div>"
            ],
            "text/plain": [
              "   ID  ... Quantitative Finance\n",
              "0   1  ...                    0\n",
              "1   2  ...                    0\n",
              "2   3  ...                    0\n",
              "3   4  ...                    0\n",
              "4   5  ...                    0\n",
              "\n",
              "[5 rows x 9 columns]"
            ]
          },
          "metadata": {
            "tags": []
          },
          "execution_count": 3
        }
      ]
    },
    {
      "cell_type": "code",
      "metadata": {
        "id": "iz-ZBXzWmMu7",
        "colab_type": "code",
        "colab": {
          "base_uri": "https://localhost:8080/",
          "height": 67
        },
        "outputId": "0b64ae95-4477-417f-f214-43b96364ad66"
      },
      "source": [
        "train.columns"
      ],
      "execution_count": null,
      "outputs": [
        {
          "output_type": "execute_result",
          "data": {
            "text/plain": [
              "Index(['ID', 'TITLE', 'ABSTRACT', 'Computer Science', 'Physics', 'Mathematics',\n",
              "       'Statistics', 'Quantitative Biology', 'Quantitative Finance'],\n",
              "      dtype='object')"
            ]
          },
          "metadata": {
            "tags": []
          },
          "execution_count": 4
        }
      ]
    },
    {
      "cell_type": "code",
      "metadata": {
        "id": "r0Gao753mTWG",
        "colab_type": "code",
        "colab": {
          "base_uri": "https://localhost:8080/",
          "height": 521
        },
        "outputId": "178745db-0640-474a-b5f3-4127b561ff30"
      },
      "source": [
        "for col in ['Computer Science', 'Physics', 'Mathematics',\n",
        "       'Statistics', 'Quantitative Biology', 'Quantitative Finance']:\n",
        "       print(col)\n",
        "       print(train[col].value_counts())\n",
        "       print(\"################\")"
      ],
      "execution_count": null,
      "outputs": [
        {
          "output_type": "stream",
          "text": [
            "Computer Science\n",
            "0    12378\n",
            "1     8594\n",
            "Name: Computer Science, dtype: int64\n",
            "################\n",
            "Physics\n",
            "0    14959\n",
            "1     6013\n",
            "Name: Physics, dtype: int64\n",
            "################\n",
            "Mathematics\n",
            "0    15354\n",
            "1     5618\n",
            "Name: Mathematics, dtype: int64\n",
            "################\n",
            "Statistics\n",
            "0    15766\n",
            "1     5206\n",
            "Name: Statistics, dtype: int64\n",
            "################\n",
            "Quantitative Biology\n",
            "0    20385\n",
            "1      587\n",
            "Name: Quantitative Biology, dtype: int64\n",
            "################\n",
            "Quantitative Finance\n",
            "0    20723\n",
            "1      249\n",
            "Name: Quantitative Finance, dtype: int64\n",
            "################\n"
          ],
          "name": "stdout"
        }
      ]
    },
    {
      "cell_type": "code",
      "metadata": {
        "id": "4q8z0bK_Ux9u",
        "colab_type": "code",
        "colab": {
          "base_uri": "https://localhost:8080/",
          "height": 195
        },
        "outputId": "3b859114-e70a-4363-bb2a-f7069fa212ad"
      },
      "source": [
        "test.head()"
      ],
      "execution_count": null,
      "outputs": [
        {
          "output_type": "execute_result",
          "data": {
            "text/html": [
              "<div>\n",
              "<style scoped>\n",
              "    .dataframe tbody tr th:only-of-type {\n",
              "        vertical-align: middle;\n",
              "    }\n",
              "\n",
              "    .dataframe tbody tr th {\n",
              "        vertical-align: top;\n",
              "    }\n",
              "\n",
              "    .dataframe thead th {\n",
              "        text-align: right;\n",
              "    }\n",
              "</style>\n",
              "<table border=\"1\" class=\"dataframe\">\n",
              "  <thead>\n",
              "    <tr style=\"text-align: right;\">\n",
              "      <th></th>\n",
              "      <th>ID</th>\n",
              "      <th>TITLE</th>\n",
              "      <th>ABSTRACT</th>\n",
              "    </tr>\n",
              "  </thead>\n",
              "  <tbody>\n",
              "    <tr>\n",
              "      <th>0</th>\n",
              "      <td>20973</td>\n",
              "      <td>Closed-form Marginal Likelihood in Gamma-Poiss...</td>\n",
              "      <td>We present novel understandings of the Gamma...</td>\n",
              "    </tr>\n",
              "    <tr>\n",
              "      <th>1</th>\n",
              "      <td>20974</td>\n",
              "      <td>Laboratory mid-IR spectra of equilibrated and ...</td>\n",
              "      <td>Meteorites contain minerals from Solar Syste...</td>\n",
              "    </tr>\n",
              "    <tr>\n",
              "      <th>2</th>\n",
              "      <td>20975</td>\n",
              "      <td>Case For Static AMSDU Aggregation in WLANs</td>\n",
              "      <td>Frame aggregation is a mechanism by which mu...</td>\n",
              "    </tr>\n",
              "    <tr>\n",
              "      <th>3</th>\n",
              "      <td>20976</td>\n",
              "      <td>The $Gaia$-ESO Survey: the inner disk intermed...</td>\n",
              "      <td>Milky Way open clusters are very diverse in ...</td>\n",
              "    </tr>\n",
              "    <tr>\n",
              "      <th>4</th>\n",
              "      <td>20977</td>\n",
              "      <td>Witness-Functions versus Interpretation-Functi...</td>\n",
              "      <td>Proving that a cryptographic protocol is cor...</td>\n",
              "    </tr>\n",
              "  </tbody>\n",
              "</table>\n",
              "</div>"
            ],
            "text/plain": [
              "      ID  ...                                           ABSTRACT\n",
              "0  20973  ...    We present novel understandings of the Gamma...\n",
              "1  20974  ...    Meteorites contain minerals from Solar Syste...\n",
              "2  20975  ...    Frame aggregation is a mechanism by which mu...\n",
              "3  20976  ...    Milky Way open clusters are very diverse in ...\n",
              "4  20977  ...    Proving that a cryptographic protocol is cor...\n",
              "\n",
              "[5 rows x 3 columns]"
            ]
          },
          "metadata": {
            "tags": []
          },
          "execution_count": 6
        }
      ]
    },
    {
      "cell_type": "code",
      "metadata": {
        "id": "DsE28ezgUy8P",
        "colab_type": "code",
        "colab": {
          "base_uri": "https://localhost:8080/",
          "height": 34
        },
        "outputId": "b8b3c3d2-cc8c-42bc-ecea-0e01240ff084"
      },
      "source": [
        "train.shape"
      ],
      "execution_count": null,
      "outputs": [
        {
          "output_type": "execute_result",
          "data": {
            "text/plain": [
              "(20972, 9)"
            ]
          },
          "metadata": {
            "tags": []
          },
          "execution_count": 7
        }
      ]
    },
    {
      "cell_type": "code",
      "metadata": {
        "id": "sCBMwhtEU9BS",
        "colab_type": "code",
        "colab": {}
      },
      "source": [
        "train_val = train['TITLE'].str.lower().unique() \n",
        "test_val = test['TITLE'].str.lower().unique() "
      ],
      "execution_count": null,
      "outputs": []
    },
    {
      "cell_type": "code",
      "metadata": {
        "id": "13JbUO0FWB4R",
        "colab_type": "code",
        "colab": {}
      },
      "source": [
        "myarray = np.isin(train_val, test_val, invert=False)"
      ],
      "execution_count": null,
      "outputs": []
    },
    {
      "cell_type": "code",
      "metadata": {
        "id": "CA64a6qAWKWI",
        "colab_type": "code",
        "colab": {}
      },
      "source": [
        "(unique, counts) = np.unique(myarray, return_counts=True)\n",
        "frequencies = np.asarray((unique, counts)).T"
      ],
      "execution_count": null,
      "outputs": []
    },
    {
      "cell_type": "code",
      "metadata": {
        "id": "TL-FoALqWZ2v",
        "colab_type": "code",
        "colab": {
          "base_uri": "https://localhost:8080/",
          "height": 34
        },
        "outputId": "e0aa1bec-0780-40ee-833a-79bb160c646c"
      },
      "source": [
        "frequencies"
      ],
      "execution_count": null,
      "outputs": [
        {
          "output_type": "execute_result",
          "data": {
            "text/plain": [
              "array([[    0, 20972]])"
            ]
          },
          "metadata": {
            "tags": []
          },
          "execution_count": 11
        }
      ]
    },
    {
      "cell_type": "code",
      "metadata": {
        "id": "M6EDDeq6Wn2K",
        "colab_type": "code",
        "colab": {
          "base_uri": "https://localhost:8080/",
          "height": 34
        },
        "outputId": "0a8a3fae-2d8f-4f11-f9ba-df3f22c082d2"
      },
      "source": [
        "unique"
      ],
      "execution_count": null,
      "outputs": [
        {
          "output_type": "execute_result",
          "data": {
            "text/plain": [
              "array([False])"
            ]
          },
          "metadata": {
            "tags": []
          },
          "execution_count": 12
        }
      ]
    },
    {
      "cell_type": "code",
      "metadata": {
        "id": "rFYEQeq7WsNH",
        "colab_type": "code",
        "colab": {
          "base_uri": "https://localhost:8080/",
          "height": 296
        },
        "outputId": "553e911c-8ebd-433a-ee64-656b8ad4eb43"
      },
      "source": [
        "train.head()"
      ],
      "execution_count": null,
      "outputs": [
        {
          "output_type": "execute_result",
          "data": {
            "text/html": [
              "<div>\n",
              "<style scoped>\n",
              "    .dataframe tbody tr th:only-of-type {\n",
              "        vertical-align: middle;\n",
              "    }\n",
              "\n",
              "    .dataframe tbody tr th {\n",
              "        vertical-align: top;\n",
              "    }\n",
              "\n",
              "    .dataframe thead th {\n",
              "        text-align: right;\n",
              "    }\n",
              "</style>\n",
              "<table border=\"1\" class=\"dataframe\">\n",
              "  <thead>\n",
              "    <tr style=\"text-align: right;\">\n",
              "      <th></th>\n",
              "      <th>ID</th>\n",
              "      <th>TITLE</th>\n",
              "      <th>ABSTRACT</th>\n",
              "      <th>Computer Science</th>\n",
              "      <th>Physics</th>\n",
              "      <th>Mathematics</th>\n",
              "      <th>Statistics</th>\n",
              "      <th>Quantitative Biology</th>\n",
              "      <th>Quantitative Finance</th>\n",
              "    </tr>\n",
              "  </thead>\n",
              "  <tbody>\n",
              "    <tr>\n",
              "      <th>0</th>\n",
              "      <td>1</td>\n",
              "      <td>Reconstructing Subject-Specific Effect Maps</td>\n",
              "      <td>Predictive models allow subject-specific inf...</td>\n",
              "      <td>1</td>\n",
              "      <td>0</td>\n",
              "      <td>0</td>\n",
              "      <td>0</td>\n",
              "      <td>0</td>\n",
              "      <td>0</td>\n",
              "    </tr>\n",
              "    <tr>\n",
              "      <th>1</th>\n",
              "      <td>2</td>\n",
              "      <td>Rotation Invariance Neural Network</td>\n",
              "      <td>Rotation invariance and translation invarian...</td>\n",
              "      <td>1</td>\n",
              "      <td>0</td>\n",
              "      <td>0</td>\n",
              "      <td>0</td>\n",
              "      <td>0</td>\n",
              "      <td>0</td>\n",
              "    </tr>\n",
              "    <tr>\n",
              "      <th>2</th>\n",
              "      <td>3</td>\n",
              "      <td>Spherical polyharmonics and Poisson kernels fo...</td>\n",
              "      <td>We introduce and develop the notion of spher...</td>\n",
              "      <td>0</td>\n",
              "      <td>0</td>\n",
              "      <td>1</td>\n",
              "      <td>0</td>\n",
              "      <td>0</td>\n",
              "      <td>0</td>\n",
              "    </tr>\n",
              "    <tr>\n",
              "      <th>3</th>\n",
              "      <td>4</td>\n",
              "      <td>A finite element approximation for the stochas...</td>\n",
              "      <td>The stochastic Landau--Lifshitz--Gilbert (LL...</td>\n",
              "      <td>0</td>\n",
              "      <td>0</td>\n",
              "      <td>1</td>\n",
              "      <td>0</td>\n",
              "      <td>0</td>\n",
              "      <td>0</td>\n",
              "    </tr>\n",
              "    <tr>\n",
              "      <th>4</th>\n",
              "      <td>5</td>\n",
              "      <td>Comparative study of Discrete Wavelet Transfor...</td>\n",
              "      <td>Fourier-transform infra-red (FTIR) spectra o...</td>\n",
              "      <td>1</td>\n",
              "      <td>0</td>\n",
              "      <td>0</td>\n",
              "      <td>1</td>\n",
              "      <td>0</td>\n",
              "      <td>0</td>\n",
              "    </tr>\n",
              "  </tbody>\n",
              "</table>\n",
              "</div>"
            ],
            "text/plain": [
              "   ID  ... Quantitative Finance\n",
              "0   1  ...                    0\n",
              "1   2  ...                    0\n",
              "2   3  ...                    0\n",
              "3   4  ...                    0\n",
              "4   5  ...                    0\n",
              "\n",
              "[5 rows x 9 columns]"
            ]
          },
          "metadata": {
            "tags": []
          },
          "execution_count": 13
        }
      ]
    },
    {
      "cell_type": "code",
      "metadata": {
        "id": "HBkS6iWgsMnR",
        "colab_type": "code",
        "colab": {}
      },
      "source": [
        "train['FinalClass'] = train['Computer Science'].astype(str)+train['Physics'].astype(str)+train['Mathematics'].astype(str)+train['Statistics'].astype(str)+ \\\n",
        "train['Quantitative Biology'].astype(str)+train['Quantitative Finance'].astype(str)"
      ],
      "execution_count": null,
      "outputs": []
    },
    {
      "cell_type": "code",
      "metadata": {
        "id": "FMd4dKtrsPek",
        "colab_type": "code",
        "colab": {}
      },
      "source": [
        "def binaryToDecimal(n): \n",
        "    return int(n,2) "
      ],
      "execution_count": null,
      "outputs": []
    },
    {
      "cell_type": "code",
      "metadata": {
        "id": "M6rdu4t3s0EU",
        "colab_type": "code",
        "colab": {}
      },
      "source": [
        "train['FinalClass_Decimal'] = train['FinalClass'].apply(binaryToDecimal)"
      ],
      "execution_count": null,
      "outputs": []
    },
    {
      "cell_type": "code",
      "metadata": {
        "id": "_ydE_zi_s7XJ",
        "colab_type": "code",
        "colab": {
          "base_uri": "https://localhost:8080/",
          "height": 430
        },
        "outputId": "9bbd3f73-c443-4284-cc87-0effef171a9e"
      },
      "source": [
        "train.head()"
      ],
      "execution_count": null,
      "outputs": [
        {
          "output_type": "execute_result",
          "data": {
            "text/html": [
              "<div>\n",
              "<style scoped>\n",
              "    .dataframe tbody tr th:only-of-type {\n",
              "        vertical-align: middle;\n",
              "    }\n",
              "\n",
              "    .dataframe tbody tr th {\n",
              "        vertical-align: top;\n",
              "    }\n",
              "\n",
              "    .dataframe thead th {\n",
              "        text-align: right;\n",
              "    }\n",
              "</style>\n",
              "<table border=\"1\" class=\"dataframe\">\n",
              "  <thead>\n",
              "    <tr style=\"text-align: right;\">\n",
              "      <th></th>\n",
              "      <th>ID</th>\n",
              "      <th>TITLE</th>\n",
              "      <th>ABSTRACT</th>\n",
              "      <th>Computer Science</th>\n",
              "      <th>Physics</th>\n",
              "      <th>Mathematics</th>\n",
              "      <th>Statistics</th>\n",
              "      <th>Quantitative Biology</th>\n",
              "      <th>Quantitative Finance</th>\n",
              "      <th>FinalClass</th>\n",
              "      <th>FinalClass_Decimal</th>\n",
              "    </tr>\n",
              "  </thead>\n",
              "  <tbody>\n",
              "    <tr>\n",
              "      <th>0</th>\n",
              "      <td>1</td>\n",
              "      <td>Reconstructing Subject-Specific Effect Maps</td>\n",
              "      <td>Predictive models allow subject-specific inf...</td>\n",
              "      <td>1</td>\n",
              "      <td>0</td>\n",
              "      <td>0</td>\n",
              "      <td>0</td>\n",
              "      <td>0</td>\n",
              "      <td>0</td>\n",
              "      <td>100000</td>\n",
              "      <td>32</td>\n",
              "    </tr>\n",
              "    <tr>\n",
              "      <th>1</th>\n",
              "      <td>2</td>\n",
              "      <td>Rotation Invariance Neural Network</td>\n",
              "      <td>Rotation invariance and translation invarian...</td>\n",
              "      <td>1</td>\n",
              "      <td>0</td>\n",
              "      <td>0</td>\n",
              "      <td>0</td>\n",
              "      <td>0</td>\n",
              "      <td>0</td>\n",
              "      <td>100000</td>\n",
              "      <td>32</td>\n",
              "    </tr>\n",
              "    <tr>\n",
              "      <th>2</th>\n",
              "      <td>3</td>\n",
              "      <td>Spherical polyharmonics and Poisson kernels fo...</td>\n",
              "      <td>We introduce and develop the notion of spher...</td>\n",
              "      <td>0</td>\n",
              "      <td>0</td>\n",
              "      <td>1</td>\n",
              "      <td>0</td>\n",
              "      <td>0</td>\n",
              "      <td>0</td>\n",
              "      <td>001000</td>\n",
              "      <td>8</td>\n",
              "    </tr>\n",
              "    <tr>\n",
              "      <th>3</th>\n",
              "      <td>4</td>\n",
              "      <td>A finite element approximation for the stochas...</td>\n",
              "      <td>The stochastic Landau--Lifshitz--Gilbert (LL...</td>\n",
              "      <td>0</td>\n",
              "      <td>0</td>\n",
              "      <td>1</td>\n",
              "      <td>0</td>\n",
              "      <td>0</td>\n",
              "      <td>0</td>\n",
              "      <td>001000</td>\n",
              "      <td>8</td>\n",
              "    </tr>\n",
              "    <tr>\n",
              "      <th>4</th>\n",
              "      <td>5</td>\n",
              "      <td>Comparative study of Discrete Wavelet Transfor...</td>\n",
              "      <td>Fourier-transform infra-red (FTIR) spectra o...</td>\n",
              "      <td>1</td>\n",
              "      <td>0</td>\n",
              "      <td>0</td>\n",
              "      <td>1</td>\n",
              "      <td>0</td>\n",
              "      <td>0</td>\n",
              "      <td>100100</td>\n",
              "      <td>36</td>\n",
              "    </tr>\n",
              "  </tbody>\n",
              "</table>\n",
              "</div>"
            ],
            "text/plain": [
              "   ID  ... FinalClass_Decimal\n",
              "0   1  ...                 32\n",
              "1   2  ...                 32\n",
              "2   3  ...                  8\n",
              "3   4  ...                  8\n",
              "4   5  ...                 36\n",
              "\n",
              "[5 rows x 11 columns]"
            ]
          },
          "metadata": {
            "tags": []
          },
          "execution_count": 17
        }
      ]
    },
    {
      "cell_type": "code",
      "metadata": {
        "id": "KfVpO56WtC4p",
        "colab_type": "code",
        "colab": {
          "base_uri": "https://localhost:8080/",
          "height": 437
        },
        "outputId": "f59094b2-a36e-4521-e296-c24f3bf93151"
      },
      "source": [
        "train['FinalClass_Decimal'].value_counts()"
      ],
      "execution_count": null,
      "outputs": [
        {
          "output_type": "execute_result",
          "data": {
            "text/plain": [
              "16    5120\n",
              "32    4910\n",
              "8     3610\n",
              "36    2285\n",
              "4     1636\n",
              "12     825\n",
              "40     682\n",
              "2      443\n",
              "48     437\n",
              "24     293\n",
              "1      209\n",
              "44     179\n",
              "6      105\n",
              "20      99\n",
              "52      36\n",
              "34      30\n",
              "5       24\n",
              "56      19\n",
              "33       9\n",
              "28       9\n",
              "38       5\n",
              "3        4\n",
              "37       2\n",
              "13       1\n",
              "Name: FinalClass_Decimal, dtype: int64"
            ]
          },
          "metadata": {
            "tags": []
          },
          "execution_count": 18
        }
      ]
    },
    {
      "cell_type": "code",
      "metadata": {
        "id": "DZ2Vo2T9cVG4",
        "colab_type": "code",
        "colab": {}
      },
      "source": [
        ""
      ],
      "execution_count": null,
      "outputs": []
    },
    {
      "cell_type": "code",
      "metadata": {
        "id": "TtjoJrzZtGXL",
        "colab_type": "code",
        "colab": {
          "base_uri": "https://localhost:8080/",
          "height": 34
        },
        "outputId": "6bee0a60-4531-4dc1-f12c-f3f91d92697b"
      },
      "source": [
        "train['FinalClass_Decimal'].nunique()"
      ],
      "execution_count": null,
      "outputs": [
        {
          "output_type": "execute_result",
          "data": {
            "text/plain": [
              "24"
            ]
          },
          "metadata": {
            "tags": []
          },
          "execution_count": 19
        }
      ]
    },
    {
      "cell_type": "code",
      "metadata": {
        "id": "IBkoj9z3tJ2X",
        "colab_type": "code",
        "colab": {
          "base_uri": "https://localhost:8080/",
          "height": 101
        },
        "outputId": "30494fad-cc65-431e-b153-b5c8db399a76"
      },
      "source": [
        "import unicodedata  \n",
        "from nltk import sent_tokenize\n",
        "from nltk.corpus import stopwords\n",
        "import nltk\n",
        "import re\n",
        "from nltk.tokenize import word_tokenize\n",
        "from wordcloud import WordCloud\n",
        "import matplotlib.pyplot as plt\n",
        "from nltk.stem import WordNetLemmatizer\n",
        "nltk.download('punkt')\n",
        "nltk.download('wordnet')"
      ],
      "execution_count": null,
      "outputs": [
        {
          "output_type": "stream",
          "text": [
            "[nltk_data] Downloading package punkt to /root/nltk_data...\n",
            "[nltk_data]   Unzipping tokenizers/punkt.zip.\n",
            "[nltk_data] Downloading package wordnet to /root/nltk_data...\n",
            "[nltk_data]   Unzipping corpora/wordnet.zip.\n"
          ],
          "name": "stdout"
        },
        {
          "output_type": "execute_result",
          "data": {
            "text/plain": [
              "True"
            ]
          },
          "metadata": {
            "tags": []
          },
          "execution_count": 20
        }
      ]
    },
    {
      "cell_type": "code",
      "metadata": {
        "id": "q1Y_aWwCtYqJ",
        "colab_type": "code",
        "colab": {}
      },
      "source": [
        "def remove_non_ascii(words):\n",
        "    \"\"\"Remove non-ASCII characters from list of tokenized words\"\"\"\n",
        "    new_words = []\n",
        "    for word in words:\n",
        "        new_word = unicodedata.normalize('NFKD', word).encode('ascii', 'ignore').decode('utf-8', 'ignore')\n",
        "        new_words.append(new_word)\n",
        "    return new_words\n",
        "\n",
        "def to_lowercase(words):\n",
        "    \"\"\"Convert all characters to lowercase from list of tokenized words\"\"\"\n",
        "    new_words = []\n",
        "    for word in words:\n",
        "        new_word = word.lower()\n",
        "        new_words.append(new_word)\n",
        "    return new_words\n",
        "\n",
        "def remove_punctuation(words):\n",
        "    \"\"\"Remove punctuation from list of tokenized words\"\"\"\n",
        "    new_words = []\n",
        "    for word in words:\n",
        "        new_word = re.sub(r'[^\\w\\s]', '', word)\n",
        "        new_word = re.sub(r'(.)\\1+', r'\\1\\1', new_word) \n",
        "        if new_word != '':\n",
        "            new_words.append(new_word)\n",
        "    return new_words\n",
        "\n",
        "def remove_stopwords(words):\n",
        "    \"\"\"Remove stop words from list of tokenized words\"\"\"\n",
        "    new_words = []\n",
        "    stop_words = []\n",
        "    stop_words.append(stopwords.words('english'))\n",
        "    for word in words:\n",
        "        if(word not in stop_words):\n",
        "            new_words.append(word)\n",
        "    return new_words\n",
        "\n",
        "def lemmatize_verbs(words):\n",
        "    \"\"\"Lemmatize verbs in list of tokenized words\"\"\"\n",
        "    lemmatizer = WordNetLemmatizer()\n",
        "    lemmas = []\n",
        "    for word in words:\n",
        "        lemma = lemmatizer.lemmatize(word, pos='v')\n",
        "        lemmas.append(lemma)\n",
        "    return lemmas\n",
        "\n",
        "# def replace_contractions(text):\n",
        "#     \"\"\"Replace contractions in string of text\"\"\"\n",
        "#     return contractions.fix(text)\n",
        "def preprocess(text):\n",
        "    # text = replace_contractions(text)\n",
        "    content = nltk.word_tokenize(text)\n",
        "    words = remove_non_ascii(content)\n",
        "    words = to_lowercase(words)\n",
        "    words = lemmatize_verbs(words)\n",
        "    words = remove_punctuation(words)\n",
        "    # words = remove_stopwords(words)\n",
        "    # text= ' '.join(list(dict.fromkeys(words)))\n",
        "    text = ' '.join(words)\n",
        "    return text\n",
        "def join_tags(words):\n",
        "    text = ''.join(words)\n",
        "    return text"
      ],
      "execution_count": null,
      "outputs": []
    },
    {
      "cell_type": "code",
      "metadata": {
        "id": "O0L11Q-KtfQ5",
        "colab_type": "code",
        "colab": {}
      },
      "source": [
        "train['ABSTRACT'] = train['ABSTRACT'].apply(preprocess)\n",
        "train['TITLE'] = train['TITLE'].apply(preprocess)"
      ],
      "execution_count": null,
      "outputs": []
    },
    {
      "cell_type": "code",
      "metadata": {
        "id": "-Jei29cZwXif",
        "colab_type": "code",
        "colab": {}
      },
      "source": [
        "test['ABSTRACT'] = test['ABSTRACT'].apply(preprocess)\n",
        "test['TITLE'] = test['TITLE'].apply(preprocess)"
      ],
      "execution_count": null,
      "outputs": []
    },
    {
      "cell_type": "code",
      "metadata": {
        "id": "vWOOVWjCtw9B",
        "colab_type": "code",
        "colab": {}
      },
      "source": [
        "train['text'] = train['ABSTRACT'] + train['TITLE']"
      ],
      "execution_count": null,
      "outputs": []
    },
    {
      "cell_type": "code",
      "metadata": {
        "id": "QCoxTDNdwf62",
        "colab_type": "code",
        "colab": {}
      },
      "source": [
        "test['text'] = test['ABSTRACT'] + test['TITLE']"
      ],
      "execution_count": null,
      "outputs": []
    },
    {
      "cell_type": "code",
      "metadata": {
        "id": "D1OV-2VqzBOO",
        "colab_type": "code",
        "colab": {
          "base_uri": "https://localhost:8080/",
          "height": 518
        },
        "outputId": "02e55eeb-c97b-4b0f-8afb-39fe53bc9c8e"
      },
      "source": [
        "train.head()"
      ],
      "execution_count": null,
      "outputs": [
        {
          "output_type": "execute_result",
          "data": {
            "text/html": [
              "<div>\n",
              "<style scoped>\n",
              "    .dataframe tbody tr th:only-of-type {\n",
              "        vertical-align: middle;\n",
              "    }\n",
              "\n",
              "    .dataframe tbody tr th {\n",
              "        vertical-align: top;\n",
              "    }\n",
              "\n",
              "    .dataframe thead th {\n",
              "        text-align: right;\n",
              "    }\n",
              "</style>\n",
              "<table border=\"1\" class=\"dataframe\">\n",
              "  <thead>\n",
              "    <tr style=\"text-align: right;\">\n",
              "      <th></th>\n",
              "      <th>ID</th>\n",
              "      <th>TITLE</th>\n",
              "      <th>ABSTRACT</th>\n",
              "      <th>Computer Science</th>\n",
              "      <th>Physics</th>\n",
              "      <th>Mathematics</th>\n",
              "      <th>Statistics</th>\n",
              "      <th>Quantitative Biology</th>\n",
              "      <th>Quantitative Finance</th>\n",
              "      <th>FinalClass</th>\n",
              "      <th>FinalClass_Decimal</th>\n",
              "      <th>text</th>\n",
              "    </tr>\n",
              "  </thead>\n",
              "  <tbody>\n",
              "    <tr>\n",
              "      <th>0</th>\n",
              "      <td>1</td>\n",
              "      <td>reconstruct subjectspecific effect map</td>\n",
              "      <td>predictive model allow subjectspecific inferen...</td>\n",
              "      <td>1</td>\n",
              "      <td>0</td>\n",
              "      <td>0</td>\n",
              "      <td>0</td>\n",
              "      <td>0</td>\n",
              "      <td>0</td>\n",
              "      <td>100000</td>\n",
              "      <td>32</td>\n",
              "      <td>predictive model allow subjectspecific inferen...</td>\n",
              "    </tr>\n",
              "    <tr>\n",
              "      <th>1</th>\n",
              "      <td>2</td>\n",
              "      <td>rotation invariance neural network</td>\n",
              "      <td>rotation invariance and translation invariance...</td>\n",
              "      <td>1</td>\n",
              "      <td>0</td>\n",
              "      <td>0</td>\n",
              "      <td>0</td>\n",
              "      <td>0</td>\n",
              "      <td>0</td>\n",
              "      <td>100000</td>\n",
              "      <td>32</td>\n",
              "      <td>rotation invariance and translation invariance...</td>\n",
              "    </tr>\n",
              "    <tr>\n",
              "      <th>2</th>\n",
              "      <td>3</td>\n",
              "      <td>spherical polyharmonics and poisson kernels fo...</td>\n",
              "      <td>we introduce and develop the notion of spheric...</td>\n",
              "      <td>0</td>\n",
              "      <td>0</td>\n",
              "      <td>1</td>\n",
              "      <td>0</td>\n",
              "      <td>0</td>\n",
              "      <td>0</td>\n",
              "      <td>001000</td>\n",
              "      <td>8</td>\n",
              "      <td>we introduce and develop the notion of spheric...</td>\n",
              "    </tr>\n",
              "    <tr>\n",
              "      <th>3</th>\n",
              "      <td>4</td>\n",
              "      <td>a finite element approximation for the stochas...</td>\n",
              "      <td>the stochastic landau lifshitz gilbert llg equ...</td>\n",
              "      <td>0</td>\n",
              "      <td>0</td>\n",
              "      <td>1</td>\n",
              "      <td>0</td>\n",
              "      <td>0</td>\n",
              "      <td>0</td>\n",
              "      <td>001000</td>\n",
              "      <td>8</td>\n",
              "      <td>the stochastic landau lifshitz gilbert llg equ...</td>\n",
              "    </tr>\n",
              "    <tr>\n",
              "      <th>4</th>\n",
              "      <td>5</td>\n",
              "      <td>comparative study of discrete wavelet transfor...</td>\n",
              "      <td>fouriertransform infrared ftir spectra of samp...</td>\n",
              "      <td>1</td>\n",
              "      <td>0</td>\n",
              "      <td>0</td>\n",
              "      <td>1</td>\n",
              "      <td>0</td>\n",
              "      <td>0</td>\n",
              "      <td>100100</td>\n",
              "      <td>36</td>\n",
              "      <td>fouriertransform infrared ftir spectra of samp...</td>\n",
              "    </tr>\n",
              "  </tbody>\n",
              "</table>\n",
              "</div>"
            ],
            "text/plain": [
              "   ID  ...                                               text\n",
              "0   1  ...  predictive model allow subjectspecific inferen...\n",
              "1   2  ...  rotation invariance and translation invariance...\n",
              "2   3  ...  we introduce and develop the notion of spheric...\n",
              "3   4  ...  the stochastic landau lifshitz gilbert llg equ...\n",
              "4   5  ...  fouriertransform infrared ftir spectra of samp...\n",
              "\n",
              "[5 rows x 12 columns]"
            ]
          },
          "metadata": {
            "tags": []
          },
          "execution_count": 26
        }
      ]
    },
    {
      "cell_type": "code",
      "metadata": {
        "id": "m9ERGJXfuRIg",
        "colab_type": "code",
        "colab": {}
      },
      "source": [
        "from sklearn.base import BaseEstimator, TransformerMixin\n",
        "\n",
        "class TextSelector(BaseEstimator, TransformerMixin):\n",
        "    \"\"\"\n",
        "    Transformer to select a single column from the data frame to perform additional transformations on\n",
        "    Use on text columns in the data\n",
        "    \"\"\"\n",
        "    def __init__(self, key):\n",
        "        self.key = key\n",
        "\n",
        "    def fit(self, X, y=None): # fit() doesn't do anything\n",
        "        return self\n",
        "\n",
        "    def transform(self, X):   # all the work is done here\n",
        "        return X[self.key]\n",
        "    \n",
        "class NumberSelector(BaseEstimator, TransformerMixin):\n",
        "    \"\"\"\n",
        "    Transformer to select a single column from the data frame to perform additional transformations on\n",
        "    Use on numeric columns in the data\n",
        "    \"\"\"\n",
        "    def __init__(self, key):\n",
        "        self.key = key\n",
        "\n",
        "    def fit(self, X, y=None):\n",
        "        return self\n",
        "\n",
        "    def transform(self, X):\n",
        "        return X[[self.key]]"
      ],
      "execution_count": null,
      "outputs": []
    },
    {
      "cell_type": "code",
      "metadata": {
        "id": "QfhY6UZ08qIw",
        "colab_type": "code",
        "colab": {}
      },
      "source": [
        "from sklearn.pipeline import Pipeline\n",
        "from sklearn.feature_extraction.text import TfidfVectorizer\n",
        "from sklearn.preprocessing import MinMaxScaler\n",
        "\n",
        "text = Pipeline([\n",
        "                ('selector', TextSelector(key='text')),\n",
        "                ('tfidf', TfidfVectorizer(analyzer='word', token_pattern=r'\\w{1,}',ngram_range=(1,2)))\n",
        "            ])"
      ],
      "execution_count": null,
      "outputs": []
    },
    {
      "cell_type": "code",
      "metadata": {
        "id": "lKd_H6bE8ss0",
        "colab_type": "code",
        "colab": {}
      },
      "source": [
        "from sklearn.pipeline import FeatureUnion\n",
        "\n",
        "feats = FeatureUnion([('text', text)]) \n",
        "feature_processing = Pipeline([('feats', feats)])"
      ],
      "execution_count": null,
      "outputs": []
    },
    {
      "cell_type": "code",
      "metadata": {
        "id": "MajQ8wQS8vSz",
        "colab_type": "code",
        "colab": {}
      },
      "source": [
        "from sklearn.model_selection import train_test_split"
      ],
      "execution_count": null,
      "outputs": []
    },
    {
      "cell_type": "code",
      "metadata": {
        "id": "ASbr9Rsu8yAZ",
        "colab_type": "code",
        "colab": {}
      },
      "source": [
        "from sklearn.ensemble import RandomForestClassifier"
      ],
      "execution_count": null,
      "outputs": []
    },
    {
      "cell_type": "code",
      "metadata": {
        "id": "uZPe1Dy181Tv",
        "colab_type": "code",
        "colab": {}
      },
      "source": [
        "from sklearn.metrics import classification_report, confusion_matrix, accuracy_score, f1_score\n",
        "\n",
        "def evaluate_model(y_true, y_pred):\n",
        "    print('confusion matrix')\n",
        "    cm = confusion_matrix(y_true, y_pred)\n",
        "    cm_df = pd.DataFrame(cm.T)\n",
        "    cm_df.index.name = 'Predicted'\n",
        "    cm_df.columns.name = 'True'\n",
        "    print(cm_df)\n",
        "    print('classification report')\n",
        "    print(classification_report(y_true,y_pred))\n",
        "    print('accuracy score')\n",
        "    print(accuracy_score(y_true, y_pred))"
      ],
      "execution_count": null,
      "outputs": []
    },
    {
      "cell_type": "code",
      "metadata": {
        "id": "iHPEMT5F83vW",
        "colab_type": "code",
        "colab": {}
      },
      "source": [
        "clf2 = RandomForestClassifier(random_state=88)"
      ],
      "execution_count": null,
      "outputs": []
    },
    {
      "cell_type": "code",
      "metadata": {
        "id": "OdKq304S8811",
        "colab_type": "code",
        "colab": {}
      },
      "source": [
        "from sklearn.pipeline import FeatureUnion\n",
        "\n",
        "feats = FeatureUnion([('text', text)]) \n",
        "feature_processing = Pipeline([('feats', feats)])"
      ],
      "execution_count": null,
      "outputs": []
    },
    {
      "cell_type": "code",
      "metadata": {
        "id": "becalFMJ9UsY",
        "colab_type": "code",
        "colab": {
          "base_uri": "https://localhost:8080/",
          "height": 518
        },
        "outputId": "139b486b-4a8d-4710-ca50-554ba453eaf8"
      },
      "source": [
        "train.head()"
      ],
      "execution_count": null,
      "outputs": [
        {
          "output_type": "execute_result",
          "data": {
            "text/html": [
              "<div>\n",
              "<style scoped>\n",
              "    .dataframe tbody tr th:only-of-type {\n",
              "        vertical-align: middle;\n",
              "    }\n",
              "\n",
              "    .dataframe tbody tr th {\n",
              "        vertical-align: top;\n",
              "    }\n",
              "\n",
              "    .dataframe thead th {\n",
              "        text-align: right;\n",
              "    }\n",
              "</style>\n",
              "<table border=\"1\" class=\"dataframe\">\n",
              "  <thead>\n",
              "    <tr style=\"text-align: right;\">\n",
              "      <th></th>\n",
              "      <th>ID</th>\n",
              "      <th>TITLE</th>\n",
              "      <th>ABSTRACT</th>\n",
              "      <th>Computer Science</th>\n",
              "      <th>Physics</th>\n",
              "      <th>Mathematics</th>\n",
              "      <th>Statistics</th>\n",
              "      <th>Quantitative Biology</th>\n",
              "      <th>Quantitative Finance</th>\n",
              "      <th>FinalClass</th>\n",
              "      <th>FinalClass_Decimal</th>\n",
              "      <th>text</th>\n",
              "    </tr>\n",
              "  </thead>\n",
              "  <tbody>\n",
              "    <tr>\n",
              "      <th>0</th>\n",
              "      <td>1</td>\n",
              "      <td>reconstruct subjectspecific effect map</td>\n",
              "      <td>predictive model allow subjectspecific inferen...</td>\n",
              "      <td>1</td>\n",
              "      <td>0</td>\n",
              "      <td>0</td>\n",
              "      <td>0</td>\n",
              "      <td>0</td>\n",
              "      <td>0</td>\n",
              "      <td>100000</td>\n",
              "      <td>32</td>\n",
              "      <td>predictive model allow subjectspecific inferen...</td>\n",
              "    </tr>\n",
              "    <tr>\n",
              "      <th>1</th>\n",
              "      <td>2</td>\n",
              "      <td>rotation invariance neural network</td>\n",
              "      <td>rotation invariance and translation invariance...</td>\n",
              "      <td>1</td>\n",
              "      <td>0</td>\n",
              "      <td>0</td>\n",
              "      <td>0</td>\n",
              "      <td>0</td>\n",
              "      <td>0</td>\n",
              "      <td>100000</td>\n",
              "      <td>32</td>\n",
              "      <td>rotation invariance and translation invariance...</td>\n",
              "    </tr>\n",
              "    <tr>\n",
              "      <th>2</th>\n",
              "      <td>3</td>\n",
              "      <td>spherical polyharmonics and poisson kernels fo...</td>\n",
              "      <td>we introduce and develop the notion of spheric...</td>\n",
              "      <td>0</td>\n",
              "      <td>0</td>\n",
              "      <td>1</td>\n",
              "      <td>0</td>\n",
              "      <td>0</td>\n",
              "      <td>0</td>\n",
              "      <td>001000</td>\n",
              "      <td>8</td>\n",
              "      <td>we introduce and develop the notion of spheric...</td>\n",
              "    </tr>\n",
              "    <tr>\n",
              "      <th>3</th>\n",
              "      <td>4</td>\n",
              "      <td>a finite element approximation for the stochas...</td>\n",
              "      <td>the stochastic landau lifshitz gilbert llg equ...</td>\n",
              "      <td>0</td>\n",
              "      <td>0</td>\n",
              "      <td>1</td>\n",
              "      <td>0</td>\n",
              "      <td>0</td>\n",
              "      <td>0</td>\n",
              "      <td>001000</td>\n",
              "      <td>8</td>\n",
              "      <td>the stochastic landau lifshitz gilbert llg equ...</td>\n",
              "    </tr>\n",
              "    <tr>\n",
              "      <th>4</th>\n",
              "      <td>5</td>\n",
              "      <td>comparative study of discrete wavelet transfor...</td>\n",
              "      <td>fouriertransform infrared ftir spectra of samp...</td>\n",
              "      <td>1</td>\n",
              "      <td>0</td>\n",
              "      <td>0</td>\n",
              "      <td>1</td>\n",
              "      <td>0</td>\n",
              "      <td>0</td>\n",
              "      <td>100100</td>\n",
              "      <td>36</td>\n",
              "      <td>fouriertransform infrared ftir spectra of samp...</td>\n",
              "    </tr>\n",
              "  </tbody>\n",
              "</table>\n",
              "</div>"
            ],
            "text/plain": [
              "   ID  ...                                               text\n",
              "0   1  ...  predictive model allow subjectspecific inferen...\n",
              "1   2  ...  rotation invariance and translation invariance...\n",
              "2   3  ...  we introduce and develop the notion of spheric...\n",
              "3   4  ...  the stochastic landau lifshitz gilbert llg equ...\n",
              "4   5  ...  fouriertransform infrared ftir spectra of samp...\n",
              "\n",
              "[5 rows x 12 columns]"
            ]
          },
          "metadata": {
            "tags": []
          },
          "execution_count": 35
        }
      ]
    },
    {
      "cell_type": "markdown",
      "metadata": {
        "id": "nZwW4dQFzoH5",
        "colab_type": "text"
      },
      "source": [
        "## one variable at a time"
      ]
    },
    {
      "cell_type": "code",
      "metadata": {
        "id": "tOqtcIhNzqLM",
        "colab_type": "code",
        "colab": {}
      },
      "source": [
        "X = pd.DataFrame(train['text'])\n",
        "y = train['Computer Science']\n",
        "\n",
        "X_test = pd.DataFrame(test['text'])"
      ],
      "execution_count": null,
      "outputs": []
    },
    {
      "cell_type": "code",
      "metadata": {
        "id": "mRVFgPel1bNn",
        "colab_type": "code",
        "colab": {
          "base_uri": "https://localhost:8080/",
          "height": 84
        },
        "outputId": "b4b3d78a-8f27-4f49-c058-39b891c2c50b"
      },
      "source": [
        "train.columns"
      ],
      "execution_count": null,
      "outputs": [
        {
          "output_type": "execute_result",
          "data": {
            "text/plain": [
              "Index(['ID', 'TITLE', 'ABSTRACT', 'Computer Science', 'Physics', 'Mathematics',\n",
              "       'Statistics', 'Quantitative Biology', 'Quantitative Finance',\n",
              "       'FinalClass', 'FinalClass_Decimal', 'text'],\n",
              "      dtype='object')"
            ]
          },
          "metadata": {
            "tags": []
          },
          "execution_count": 57
        }
      ]
    },
    {
      "cell_type": "code",
      "metadata": {
        "id": "NZD7-VjY1elv",
        "colab_type": "code",
        "colab": {}
      },
      "source": [
        "cols = ['Computer Science', 'Physics', 'Mathematics',\n",
        "       'Statistics', 'Quantitative Biology', 'Quantitative Finance']"
      ],
      "execution_count": null,
      "outputs": []
    },
    {
      "cell_type": "code",
      "metadata": {
        "colab_type": "code",
        "id": "2KEkhyxszyv_",
        "colab": {}
      },
      "source": [
        "X = feature_processing.fit_transform(X) \n",
        "X_test = feature_processing.transform(X_test)"
      ],
      "execution_count": null,
      "outputs": []
    },
    {
      "cell_type": "code",
      "metadata": {
        "id": "tKuT4Kj4F8dM",
        "colab_type": "code",
        "colab": {
          "base_uri": "https://localhost:8080/",
          "height": 50
        },
        "outputId": "269afd55-f276-4754-f96e-03a4439f483d"
      },
      "source": [
        "X"
      ],
      "execution_count": null,
      "outputs": [
        {
          "output_type": "execute_result",
          "data": {
            "text/plain": [
              "<20972x1042012 sparse matrix of type '<class 'numpy.float64'>'\n",
              "\twith 4895282 stored elements in Compressed Sparse Row format>"
            ]
          },
          "metadata": {
            "tags": []
          },
          "execution_count": 60
        }
      ]
    },
    {
      "cell_type": "code",
      "metadata": {
        "id": "HQqVrqBgnrdt",
        "colab_type": "code",
        "colab": {}
      },
      "source": [
        "from imblearn.over_sampling import SMOTE"
      ],
      "execution_count": null,
      "outputs": []
    },
    {
      "cell_type": "code",
      "metadata": {
        "id": "bpYf9oWQoFkO",
        "colab_type": "code",
        "colab": {
          "base_uri": "https://localhost:8080/",
          "height": 70
        },
        "outputId": "ea0ad05a-5ec0-4be5-bbc5-d97c1ee13c47"
      },
      "source": [
        "# over_sample = SMOTE()\n",
        "# X, y = over_sample.fit_resample(X, y=train['Computer Science'])"
      ],
      "execution_count": null,
      "outputs": [
        {
          "output_type": "stream",
          "text": [
            "/usr/local/lib/python3.6/dist-packages/sklearn/utils/deprecation.py:87: FutureWarning: Function safe_indexing is deprecated; safe_indexing is deprecated in version 0.22 and will be removed in version 0.24.\n",
            "  warnings.warn(msg, category=FutureWarning)\n"
          ],
          "name": "stderr"
        }
      ]
    },
    {
      "cell_type": "code",
      "metadata": {
        "id": "HyDE3qhPossx",
        "colab_type": "code",
        "colab": {
          "base_uri": "https://localhost:8080/",
          "height": 50
        },
        "outputId": "cd396bd8-fb24-4db7-e0c5-64529fc7a613"
      },
      "source": [
        "X"
      ],
      "execution_count": null,
      "outputs": [
        {
          "output_type": "execute_result",
          "data": {
            "text/plain": [
              "<24756x1042012 sparse matrix of type '<class 'numpy.float64'>'\n",
              "\twith 6706525 stored elements in Compressed Sparse Row format>"
            ]
          },
          "metadata": {
            "tags": []
          },
          "execution_count": 45
        }
      ]
    },
    {
      "cell_type": "code",
      "metadata": {
        "id": "ITJuVOlXofNK",
        "colab_type": "code",
        "colab": {
          "base_uri": "https://localhost:8080/",
          "height": 50
        },
        "outputId": "d7c5f991-31d6-4875-8d11-fb847fa4f2eb"
      },
      "source": [
        "(unique, counts) = np.unique(y, return_counts=True)\n",
        "frequencies = np.asarray((unique, counts)).T\n",
        "print(frequencies)"
      ],
      "execution_count": null,
      "outputs": [
        {
          "output_type": "stream",
          "text": [
            "[[    0 12378]\n",
            " [    1 12378]]\n"
          ],
          "name": "stdout"
        }
      ]
    },
    {
      "cell_type": "code",
      "metadata": {
        "id": "zxzOZYhMGOkq",
        "colab_type": "code",
        "colab": {}
      },
      "source": [
        "from scipy import sparse"
      ],
      "execution_count": null,
      "outputs": []
    },
    {
      "cell_type": "code",
      "metadata": {
        "id": "CQuqjycdGl8s",
        "colab_type": "code",
        "colab": {
          "base_uri": "https://localhost:8080/",
          "height": 34
        },
        "outputId": "c2c034f4-6ef2-4e04-e1ad-f73a0253558d"
      },
      "source": [
        "np.array(train[\"Computer Science\"])"
      ],
      "execution_count": null,
      "outputs": [
        {
          "output_type": "execute_result",
          "data": {
            "text/plain": [
              "array([1, 1, 0, ..., 1, 0, 0])"
            ]
          },
          "metadata": {
            "tags": []
          },
          "execution_count": 40
        }
      ]
    },
    {
      "cell_type": "code",
      "metadata": {
        "id": "Tu960ZLYLLfa",
        "colab_type": "code",
        "colab": {}
      },
      "source": [
        "X_copy = X\n",
        "X_test_copy = X_test"
      ],
      "execution_count": null,
      "outputs": []
    },
    {
      "cell_type": "code",
      "metadata": {
        "id": "G1v5nhGeL6n8",
        "colab_type": "code",
        "colab": {}
      },
      "source": [
        "X = X_copy\n",
        "X_test = X_test_copy"
      ],
      "execution_count": null,
      "outputs": []
    },
    {
      "cell_type": "code",
      "metadata": {
        "id": "ubWUShC5vF3N",
        "colab_type": "code",
        "colab": {}
      },
      "source": [
        "from sklearn.preprocessing import normalize"
      ],
      "execution_count": null,
      "outputs": []
    },
    {
      "cell_type": "code",
      "metadata": {
        "id": "UWQT2wqP1o5i",
        "colab_type": "code",
        "colab": {}
      },
      "source": [
        "import lightgbm as lgb\n",
        "from scipy import sparse\n",
        "from sklearn.preprocessing import normalize\n",
        "from imblearn.over_sampling import SMOTE\n",
        "\n",
        "def train_and_predict(X,X_test,cols):\n",
        "  X = normalize(X, norm='l1', axis=1)\n",
        "  X_test = normalize(X_test, norm='l1', axis=1)\n",
        "  predictions = []\n",
        "  for col in cols:\n",
        "    print(X.shape)\n",
        "    print(X_test.shape)\n",
        "    print(\"##############################\")\n",
        "    print(col)\n",
        "    print(\"##############################\")\n",
        "    y = train[col]\n",
        "    over_sample = SMOTE()\n",
        "    X_smote, y = over_sample.fit_resample(X, y)\n",
        "    m = lgb.LGBMClassifier()\n",
        "    m.fit(X_smote,y)\n",
        "    y_pred = m.predict(X_test)\n",
        "    predictions.append(y_pred)\n",
        "  return predictions"
      ],
      "execution_count": null,
      "outputs": []
    },
    {
      "cell_type": "code",
      "metadata": {
        "id": "td1xzEuaAm3I",
        "colab_type": "code",
        "colab": {
          "base_uri": "https://localhost:8080/",
          "height": 574
        },
        "outputId": "d3a3b10d-506a-4d36-fce9-bfec47425bb7"
      },
      "source": [
        "predictionList = train_and_predict(X,X_test,cols)"
      ],
      "execution_count": null,
      "outputs": [
        {
          "output_type": "stream",
          "text": [
            "(20972, 1042012)\n",
            "(8989, 1042012)\n",
            "##############################\n",
            "Computer Science\n",
            "##############################\n"
          ],
          "name": "stdout"
        },
        {
          "output_type": "stream",
          "text": [
            "/usr/local/lib/python3.6/dist-packages/sklearn/utils/deprecation.py:87: FutureWarning: Function safe_indexing is deprecated; safe_indexing is deprecated in version 0.22 and will be removed in version 0.24.\n",
            "  warnings.warn(msg, category=FutureWarning)\n"
          ],
          "name": "stderr"
        },
        {
          "output_type": "stream",
          "text": [
            "(20972, 1042012)\n",
            "(8989, 1042012)\n",
            "##############################\n",
            "Physics\n",
            "##############################\n",
            "(20972, 1042012)\n",
            "(8989, 1042012)\n",
            "##############################\n",
            "Mathematics\n",
            "##############################\n",
            "(20972, 1042012)\n",
            "(8989, 1042012)\n",
            "##############################\n",
            "Statistics\n",
            "##############################\n",
            "(20972, 1042012)\n",
            "(8989, 1042012)\n",
            "##############################\n",
            "Quantitative Biology\n",
            "##############################\n",
            "(20972, 1042012)\n",
            "(8989, 1042012)\n",
            "##############################\n",
            "Quantitative Finance\n",
            "##############################\n"
          ],
          "name": "stdout"
        }
      ]
    },
    {
      "cell_type": "markdown",
      "metadata": {
        "id": "kse4y6FO_dk8",
        "colab_type": "text"
      },
      "source": [
        "### vec stack on one variable"
      ]
    },
    {
      "cell_type": "code",
      "metadata": {
        "id": "zPFVl2jk_fpZ",
        "colab_type": "code",
        "colab": {
          "base_uri": "https://localhost:8080/",
          "height": 255
        },
        "outputId": "a4bc9cb5-a5ce-4010-c264-b5da71ed7ea6"
      },
      "source": [
        "!pip install vecstack\n",
        "from vecstack import stacking "
      ],
      "execution_count": null,
      "outputs": [
        {
          "output_type": "stream",
          "text": [
            "Collecting vecstack\n",
            "  Downloading https://files.pythonhosted.org/packages/d0/a1/b9a1e9e9e5a12078da1ab9788c7885e4c745358f7e57d5f94d9db6a4e898/vecstack-0.4.0.tar.gz\n",
            "Requirement already satisfied: numpy in /usr/local/lib/python3.6/dist-packages (from vecstack) (1.18.5)\n",
            "Requirement already satisfied: scipy in /usr/local/lib/python3.6/dist-packages (from vecstack) (1.4.1)\n",
            "Requirement already satisfied: scikit-learn>=0.18 in /usr/local/lib/python3.6/dist-packages (from vecstack) (0.22.2.post1)\n",
            "Requirement already satisfied: joblib>=0.11 in /usr/local/lib/python3.6/dist-packages (from scikit-learn>=0.18->vecstack) (0.16.0)\n",
            "Building wheels for collected packages: vecstack\n",
            "  Building wheel for vecstack (setup.py) ... \u001b[?25l\u001b[?25hdone\n",
            "  Created wheel for vecstack: filename=vecstack-0.4.0-cp36-none-any.whl size=19877 sha256=6f19911aa6dcbf5b43a0906556dab8576d955e211ba34c776e751f616c900103\n",
            "  Stored in directory: /root/.cache/pip/wheels/5f/bb/4e/f6488433d53bc0684673d6845e5bf11a25240577c8151c140e\n",
            "Successfully built vecstack\n",
            "Installing collected packages: vecstack\n",
            "Successfully installed vecstack-0.4.0\n"
          ],
          "name": "stdout"
        }
      ]
    },
    {
      "cell_type": "code",
      "metadata": {
        "id": "WRF-ID2mBK-3",
        "colab_type": "code",
        "colab": {}
      },
      "source": [
        ""
      ],
      "execution_count": null,
      "outputs": []
    },
    {
      "cell_type": "code",
      "metadata": {
        "id": "l2Sg1Tgq_vtN",
        "colab_type": "code",
        "colab": {}
      },
      "source": [
        "import lightgbm as lgb\n",
        "from scipy import sparse\n",
        "import xgboost\n",
        "from sklearn.linear_model import LogisticRegression\n",
        "clf1 = lgb.LGBMClassifier(class_weight='balanced')\n",
        "#clf2 = RandomForestClassifier(random_state=88)\n",
        "clf2 = xgboost.XGBClassifier()\n",
        "#clf3 = SVC(C = 3.5, kernel = 'rbf', gamma='auto', random_state=42,class_weight=\"balanced\")\n",
        "clf3 = LogisticRegression(class_weight='balanced')\n",
        "\n",
        "def train_and_predict_vecstack(X,X_test,cols):\n",
        "  # X = normalize(X, norm='l1', axis=1)\n",
        "  # X_test = normalize(X_test, norm='l1', axis=1)\n",
        "  predictions = []\n",
        "  for col in cols:\n",
        "    print(\"##############################\")\n",
        "    print(col)\n",
        "    print(\"##############################\")\n",
        "    y = train[col]\n",
        "    over_sample = SMOTE()\n",
        "    X_smote, y = over_sample.fit_resample(X, y)\n",
        "    models = [clf1, clf2, clf3]\n",
        "\n",
        "    # Compute stacking features\n",
        "    S_train, S_test = stacking(models, X_smote, y, X_test,regression = False, n_folds = 4, shuffle = True, random_state = 88, verbose = 2)\n",
        "    xgb = xgboost.XGBClassifier()\n",
        "    model = xgb\n",
        "    # Fit 2-nd level model\n",
        "    model = model.fit(S_train, y)\n",
        "    # Predict\n",
        "    y_test_pred = model.predict(S_test)\n",
        "    predictions.append(y_test_pred)\n",
        "  return predictions"
      ],
      "execution_count": null,
      "outputs": []
    },
    {
      "cell_type": "code",
      "metadata": {
        "id": "s0pVmSOqApMa",
        "colab_type": "code",
        "colab": {
          "base_uri": "https://localhost:8080/",
          "height": 1000
        },
        "outputId": "3659a803-0fc5-484c-9c29-74a5e353fe1e"
      },
      "source": [
        "predictionList = train_and_predict_vecstack(X,X_test,cols)"
      ],
      "execution_count": null,
      "outputs": [
        {
          "output_type": "stream",
          "text": [
            "##############################\n",
            "Computer Science\n",
            "##############################\n"
          ],
          "name": "stdout"
        },
        {
          "output_type": "stream",
          "text": [
            "/usr/local/lib/python3.6/dist-packages/sklearn/utils/deprecation.py:87: FutureWarning: Function safe_indexing is deprecated; safe_indexing is deprecated in version 0.22 and will be removed in version 0.24.\n",
            "  warnings.warn(msg, category=FutureWarning)\n"
          ],
          "name": "stderr"
        },
        {
          "output_type": "stream",
          "text": [
            "task:         [classification]\n",
            "n_classes:    [2]\n",
            "metric:       [accuracy_score]\n",
            "mode:         [oof_pred_bag]\n",
            "n_models:     [3]\n",
            "\n",
            "model  0:     [LGBMClassifier]\n",
            "    fold  0:  [0.87493941]\n",
            "    fold  1:  [0.87623202]\n",
            "    fold  2:  [0.87219260]\n",
            "    fold  3:  [0.86928421]\n",
            "    ----\n",
            "    MEAN:     [0.87316206] + [0.00267213]\n",
            "    FULL:     [0.87316206]\n",
            "\n",
            "model  1:     [XGBClassifier]\n",
            "    fold  0:  [0.84036193]\n",
            "    fold  1:  [0.83745355]\n",
            "    fold  2:  [0.83486831]\n",
            "    fold  3:  [0.83616093]\n",
            "    ----\n",
            "    MEAN:     [0.83721118] + [0.00203581]\n",
            "    FULL:     [0.83721118]\n",
            "\n",
            "model  2:     [LogisticRegression]\n",
            "    fold  0:  [0.87671676]\n",
            "    fold  1:  [0.88447245]\n",
            "    fold  2:  [0.88398772]\n",
            "    fold  3:  [0.88414930]\n",
            "    ----\n",
            "    MEAN:     [0.88233156] + [0.00324640]\n",
            "    FULL:     [0.88233156]\n",
            "\n",
            "##############################\n",
            "Physics\n",
            "##############################\n"
          ],
          "name": "stdout"
        },
        {
          "output_type": "stream",
          "text": [
            "/usr/local/lib/python3.6/dist-packages/sklearn/utils/deprecation.py:87: FutureWarning: Function safe_indexing is deprecated; safe_indexing is deprecated in version 0.22 and will be removed in version 0.24.\n",
            "  warnings.warn(msg, category=FutureWarning)\n"
          ],
          "name": "stderr"
        },
        {
          "output_type": "stream",
          "text": [
            "task:         [classification]\n",
            "n_classes:    [2]\n",
            "metric:       [accuracy_score]\n",
            "mode:         [oof_pred_bag]\n",
            "n_models:     [3]\n",
            "\n",
            "model  0:     [LGBMClassifier]\n",
            "    fold  0:  [0.94893048]\n",
            "    fold  1:  [0.94598930]\n",
            "    fold  2:  [0.94758658]\n",
            "    fold  3:  [0.94558096]\n",
            "    ----\n",
            "    MEAN:     [0.94702183] + [0.00133268]\n",
            "    FULL:     [0.94702186]\n",
            "\n",
            "model  1:     [XGBClassifier]\n",
            "    fold  0:  [0.92032086]\n",
            "    fold  1:  [0.91497326]\n",
            "    fold  2:  [0.92084503]\n",
            "    fold  3:  [0.91469448]\n",
            "    ----\n",
            "    MEAN:     [0.91770841] + [0.00288219]\n",
            "    FULL:     [0.91770840]\n",
            "\n",
            "model  2:     [LogisticRegression]\n",
            "    fold  0:  [0.94425134]\n",
            "    fold  1:  [0.95013369]\n",
            "    fold  2:  [0.94638321]\n",
            "    fold  3:  [0.95052815]\n",
            "    ----\n",
            "    MEAN:     [0.94782409] + [0.00262140]\n",
            "    FULL:     [0.94782405]\n",
            "\n",
            "##############################\n",
            "Mathematics\n",
            "##############################\n"
          ],
          "name": "stdout"
        },
        {
          "output_type": "stream",
          "text": [
            "/usr/local/lib/python3.6/dist-packages/sklearn/utils/deprecation.py:87: FutureWarning: Function safe_indexing is deprecated; safe_indexing is deprecated in version 0.22 and will be removed in version 0.24.\n",
            "  warnings.warn(msg, category=FutureWarning)\n"
          ],
          "name": "stderr"
        },
        {
          "output_type": "stream",
          "text": [
            "task:         [classification]\n",
            "n_classes:    [2]\n",
            "metric:       [accuracy_score]\n",
            "mode:         [oof_pred_bag]\n",
            "n_models:     [3]\n",
            "\n",
            "model  0:     [LGBMClassifier]\n",
            "    fold  0:  [0.93552169]\n",
            "    fold  1:  [0.92848769]\n",
            "    fold  2:  [0.92692458]\n",
            "    fold  3:  [0.92627328]\n",
            "    ----\n",
            "    MEAN:     [0.92930181] + [0.00368011]\n",
            "    FULL:     [0.92930181]\n",
            "\n",
            "model  1:     [XGBClassifier]\n",
            "    fold  0:  [0.90243585]\n",
            "    fold  1:  [0.89983066]\n",
            "    fold  2:  [0.89735574]\n",
            "    fold  3:  [0.90178455]\n",
            "    ----\n",
            "    MEAN:     [0.90035170] + [0.00197762]\n",
            "    FULL:     [0.90035170]\n",
            "\n",
            "model  2:     [LogisticRegression]\n",
            "    fold  0:  [0.92575225]\n",
            "    fold  1:  [0.92653380]\n",
            "    fold  2:  [0.92444965]\n",
            "    fold  3:  [0.92510095]\n",
            "    ----\n",
            "    MEAN:     [0.92545916] + [0.00077269]\n",
            "    FULL:     [0.92545916]\n",
            "\n",
            "##############################\n",
            "Statistics\n",
            "##############################\n"
          ],
          "name": "stdout"
        },
        {
          "output_type": "stream",
          "text": [
            "/usr/local/lib/python3.6/dist-packages/sklearn/utils/deprecation.py:87: FutureWarning: Function safe_indexing is deprecated; safe_indexing is deprecated in version 0.22 and will be removed in version 0.24.\n",
            "  warnings.warn(msg, category=FutureWarning)\n"
          ],
          "name": "stderr"
        },
        {
          "output_type": "stream",
          "text": [
            "task:         [classification]\n",
            "n_classes:    [2]\n",
            "metric:       [accuracy_score]\n",
            "mode:         [oof_pred_bag]\n",
            "n_models:     [3]\n",
            "\n",
            "model  0:     [LGBMClassifier]\n",
            "    fold  0:  [0.91932006]\n",
            "    fold  1:  [0.91703666]\n",
            "    fold  2:  [0.91995433]\n",
            "    fold  3:  [0.91805150]\n",
            "    ----\n",
            "    MEAN:     [0.91859064] + [0.00112885]\n",
            "    FULL:     [0.91859064]\n",
            "\n",
            "model  1:     [XGBClassifier]\n",
            "    fold  0:  [0.89547127]\n",
            "    fold  1:  [0.89572498]\n",
            "    fold  2:  [0.89547127]\n",
            "    fold  3:  [0.89090448]\n",
            "    ----\n",
            "    MEAN:     [0.89439300] + [0.00201676]\n",
            "    FULL:     [0.89439300]\n",
            "\n",
            "model  2:     [LogisticRegression]\n",
            "    fold  0:  [0.91982748]\n",
            "    fold  1:  [0.91995433]\n",
            "    fold  2:  [0.91906635]\n",
            "    fold  3:  [0.92071546]\n",
            "    ----\n",
            "    MEAN:     [0.91989090] + [0.00058477]\n",
            "    FULL:     [0.91989090]\n",
            "\n",
            "##############################\n",
            "Quantitative Biology\n",
            "##############################\n"
          ],
          "name": "stdout"
        },
        {
          "output_type": "stream",
          "text": [
            "/usr/local/lib/python3.6/dist-packages/sklearn/utils/deprecation.py:87: FutureWarning: Function safe_indexing is deprecated; safe_indexing is deprecated in version 0.22 and will be removed in version 0.24.\n",
            "  warnings.warn(msg, category=FutureWarning)\n"
          ],
          "name": "stderr"
        },
        {
          "output_type": "stream",
          "text": [
            "task:         [classification]\n",
            "n_classes:    [2]\n",
            "metric:       [accuracy_score]\n",
            "mode:         [oof_pred_bag]\n",
            "n_models:     [3]\n",
            "\n",
            "model  0:     [LGBMClassifier]\n",
            "    fold  0:  [0.98871775]\n",
            "    fold  1:  [0.98861964]\n",
            "    fold  2:  [0.98940345]\n",
            "    fold  3:  [0.98861852]\n",
            "    ----\n",
            "    MEAN:     [0.98883984] + [0.00032789]\n",
            "    FULL:     [0.98883983]\n",
            "\n",
            "model  1:     [XGBClassifier]\n",
            "    fold  0:  [0.98165408]\n",
            "    fold  1:  [0.97939763]\n",
            "    fold  2:  [0.98243721]\n",
            "    fold  3:  [0.98302590]\n",
            "    ----\n",
            "    MEAN:     [0.98162870] + [0.00137697]\n",
            "    FULL:     [0.98162865]\n",
            "\n",
            "model  2:     [LogisticRegression]\n",
            "    fold  0:  [0.99274012]\n",
            "    fold  1:  [0.99215148]\n",
            "    fold  2:  [0.99352433]\n",
            "    fold  3:  [0.99342622]\n",
            "    ----\n",
            "    MEAN:     [0.99296054] + [0.00055630]\n",
            "    FULL:     [0.99296051]\n",
            "\n",
            "##############################\n",
            "Quantitative Finance\n",
            "##############################\n"
          ],
          "name": "stdout"
        },
        {
          "output_type": "stream",
          "text": [
            "/usr/local/lib/python3.6/dist-packages/sklearn/utils/deprecation.py:87: FutureWarning: Function safe_indexing is deprecated; safe_indexing is deprecated in version 0.22 and will be removed in version 0.24.\n",
            "  warnings.warn(msg, category=FutureWarning)\n"
          ],
          "name": "stderr"
        },
        {
          "output_type": "stream",
          "text": [
            "task:         [classification]\n",
            "n_classes:    [2]\n",
            "metric:       [accuracy_score]\n",
            "mode:         [oof_pred_bag]\n",
            "n_models:     [3]\n",
            "\n",
            "model  0:     [LGBMClassifier]\n",
            "    fold  0:  [0.99633275]\n",
            "    fold  1:  [0.99662227]\n",
            "    fold  2:  [0.99691150]\n",
            "    fold  3:  [0.99700801]\n",
            "    ----\n",
            "    MEAN:     [0.99671863] + [0.00026416]\n",
            "    FULL:     [0.99671862]\n",
            "\n",
            "model  1:     [XGBClassifier]\n",
            "    fold  0:  [0.99121791]\n",
            "    fold  1:  [0.99266551]\n",
            "    fold  2:  [0.99227874]\n",
            "    fold  3:  [0.99440208]\n",
            "    ----\n",
            "    MEAN:     [0.99264106] + [0.00114656]\n",
            "    FULL:     [0.99264103]\n",
            "\n",
            "model  2:     [LogisticRegression]\n",
            "    fold  0:  [0.99835939]\n",
            "    fold  1:  [0.99855240]\n",
            "    fold  2:  [0.99835923]\n",
            "    fold  3:  [0.99816620]\n",
            "    ----\n",
            "    MEAN:     [0.99835931] + [0.00013654]\n",
            "    FULL:     [0.99835931]\n",
            "\n"
          ],
          "name": "stdout"
        }
      ]
    },
    {
      "cell_type": "markdown",
      "metadata": {
        "id": "A3ioH73rEkyL",
        "colab_type": "text"
      },
      "source": [
        "### converting into submission file format"
      ]
    },
    {
      "cell_type": "code",
      "metadata": {
        "id": "l-COG5R64JQO",
        "colab_type": "code",
        "colab": {}
      },
      "source": [
        "df = pd.DataFrame(data=predictionList).T"
      ],
      "execution_count": null,
      "outputs": []
    },
    {
      "cell_type": "code",
      "metadata": {
        "id": "HMBqu7tc4h-R",
        "colab_type": "code",
        "colab": {}
      },
      "source": [
        "submission_file_one_var = pd.concat([test['ID'],df],axis=1)"
      ],
      "execution_count": null,
      "outputs": []
    },
    {
      "cell_type": "code",
      "metadata": {
        "id": "IKnPPjx44uW1",
        "colab_type": "code",
        "colab": {}
      },
      "source": [
        "submission_file_one_var.columns = ['ID','Computer Science', 'Physics', 'Mathematics',\n",
        "       'Statistics', 'Quantitative Biology', 'Quantitative Finance']"
      ],
      "execution_count": null,
      "outputs": []
    },
    {
      "cell_type": "code",
      "metadata": {
        "id": "KcUfUtUGwQbJ",
        "colab_type": "code",
        "colab": {}
      },
      "source": [
        "submission_file_one_var.to_csv(\"lgb_one_var_without_corr_smote_norm.csv\",index=False)"
      ],
      "execution_count": null,
      "outputs": []
    },
    {
      "cell_type": "code",
      "metadata": {
        "id": "gO_n0y0YUwmD",
        "colab_type": "code",
        "colab": {}
      },
      "source": [
        "submission_file_one_var.to_csv(\"vecstack_one_var_without_corr_norm_smote.csv\",index=False)"
      ],
      "execution_count": null,
      "outputs": []
    },
    {
      "cell_type": "code",
      "metadata": {
        "id": "XZILKho6WM_n",
        "colab_type": "code",
        "colab": {}
      },
      "source": [
        "submission_file_one_var.to_csv(\"vecstack_one_var_without_corr_norm.csv\",index=False)"
      ],
      "execution_count": null,
      "outputs": []
    },
    {
      "cell_type": "code",
      "metadata": {
        "id": "vYev4aLA41gE",
        "colab_type": "code",
        "colab": {}
      },
      "source": [
        "submission_file_one_var.to_csv(\"lgb_one_var_without_corr.csv\",index=False)"
      ],
      "execution_count": null,
      "outputs": []
    },
    {
      "cell_type": "code",
      "metadata": {
        "id": "ga1j1E1r-m2f",
        "colab_type": "code",
        "colab": {
          "base_uri": "https://localhost:8080/",
          "height": 402
        },
        "outputId": "d1238f96-4e5d-408c-e2d5-8ebba478a113"
      },
      "source": [
        "submission_file_one_var"
      ],
      "execution_count": null,
      "outputs": [
        {
          "output_type": "execute_result",
          "data": {
            "text/html": [
              "<div>\n",
              "<style scoped>\n",
              "    .dataframe tbody tr th:only-of-type {\n",
              "        vertical-align: middle;\n",
              "    }\n",
              "\n",
              "    .dataframe tbody tr th {\n",
              "        vertical-align: top;\n",
              "    }\n",
              "\n",
              "    .dataframe thead th {\n",
              "        text-align: right;\n",
              "    }\n",
              "</style>\n",
              "<table border=\"1\" class=\"dataframe\">\n",
              "  <thead>\n",
              "    <tr style=\"text-align: right;\">\n",
              "      <th></th>\n",
              "      <th>ID</th>\n",
              "      <th>Computer Science</th>\n",
              "      <th>Physics</th>\n",
              "      <th>Mathematics</th>\n",
              "      <th>Statistics</th>\n",
              "      <th>Quantitative Biology</th>\n",
              "      <th>Quantitative Finance</th>\n",
              "    </tr>\n",
              "  </thead>\n",
              "  <tbody>\n",
              "    <tr>\n",
              "      <th>0</th>\n",
              "      <td>20973</td>\n",
              "      <td>0</td>\n",
              "      <td>0</td>\n",
              "      <td>0</td>\n",
              "      <td>0</td>\n",
              "      <td>0</td>\n",
              "      <td>0</td>\n",
              "    </tr>\n",
              "    <tr>\n",
              "      <th>1</th>\n",
              "      <td>20974</td>\n",
              "      <td>0</td>\n",
              "      <td>0</td>\n",
              "      <td>0</td>\n",
              "      <td>0</td>\n",
              "      <td>0</td>\n",
              "      <td>0</td>\n",
              "    </tr>\n",
              "    <tr>\n",
              "      <th>2</th>\n",
              "      <td>20975</td>\n",
              "      <td>1</td>\n",
              "      <td>1</td>\n",
              "      <td>1</td>\n",
              "      <td>1</td>\n",
              "      <td>1</td>\n",
              "      <td>1</td>\n",
              "    </tr>\n",
              "    <tr>\n",
              "      <th>3</th>\n",
              "      <td>20976</td>\n",
              "      <td>0</td>\n",
              "      <td>0</td>\n",
              "      <td>0</td>\n",
              "      <td>0</td>\n",
              "      <td>0</td>\n",
              "      <td>0</td>\n",
              "    </tr>\n",
              "    <tr>\n",
              "      <th>4</th>\n",
              "      <td>20977</td>\n",
              "      <td>1</td>\n",
              "      <td>1</td>\n",
              "      <td>1</td>\n",
              "      <td>1</td>\n",
              "      <td>1</td>\n",
              "      <td>1</td>\n",
              "    </tr>\n",
              "    <tr>\n",
              "      <th>...</th>\n",
              "      <td>...</td>\n",
              "      <td>...</td>\n",
              "      <td>...</td>\n",
              "      <td>...</td>\n",
              "      <td>...</td>\n",
              "      <td>...</td>\n",
              "      <td>...</td>\n",
              "    </tr>\n",
              "    <tr>\n",
              "      <th>8984</th>\n",
              "      <td>29957</td>\n",
              "      <td>1</td>\n",
              "      <td>1</td>\n",
              "      <td>1</td>\n",
              "      <td>1</td>\n",
              "      <td>1</td>\n",
              "      <td>1</td>\n",
              "    </tr>\n",
              "    <tr>\n",
              "      <th>8985</th>\n",
              "      <td>29958</td>\n",
              "      <td>0</td>\n",
              "      <td>0</td>\n",
              "      <td>0</td>\n",
              "      <td>0</td>\n",
              "      <td>0</td>\n",
              "      <td>0</td>\n",
              "    </tr>\n",
              "    <tr>\n",
              "      <th>8986</th>\n",
              "      <td>29959</td>\n",
              "      <td>1</td>\n",
              "      <td>1</td>\n",
              "      <td>1</td>\n",
              "      <td>1</td>\n",
              "      <td>1</td>\n",
              "      <td>1</td>\n",
              "    </tr>\n",
              "    <tr>\n",
              "      <th>8987</th>\n",
              "      <td>29960</td>\n",
              "      <td>1</td>\n",
              "      <td>1</td>\n",
              "      <td>1</td>\n",
              "      <td>1</td>\n",
              "      <td>1</td>\n",
              "      <td>1</td>\n",
              "    </tr>\n",
              "    <tr>\n",
              "      <th>8988</th>\n",
              "      <td>29961</td>\n",
              "      <td>0</td>\n",
              "      <td>0</td>\n",
              "      <td>0</td>\n",
              "      <td>0</td>\n",
              "      <td>0</td>\n",
              "      <td>0</td>\n",
              "    </tr>\n",
              "  </tbody>\n",
              "</table>\n",
              "<p>8989 rows × 7 columns</p>\n",
              "</div>"
            ],
            "text/plain": [
              "         ID  Computer Science  ...  Quantitative Biology  Quantitative Finance\n",
              "0     20973                 0  ...                     0                     0\n",
              "1     20974                 0  ...                     0                     0\n",
              "2     20975                 1  ...                     1                     1\n",
              "3     20976                 0  ...                     0                     0\n",
              "4     20977                 1  ...                     1                     1\n",
              "...     ...               ...  ...                   ...                   ...\n",
              "8984  29957                 1  ...                     1                     1\n",
              "8985  29958                 0  ...                     0                     0\n",
              "8986  29959                 1  ...                     1                     1\n",
              "8987  29960                 1  ...                     1                     1\n",
              "8988  29961                 0  ...                     0                     0\n",
              "\n",
              "[8989 rows x 7 columns]"
            ]
          },
          "metadata": {
            "tags": []
          },
          "execution_count": 64
        }
      ]
    },
    {
      "cell_type": "code",
      "metadata": {
        "id": "4gwEGjCm0pXU",
        "colab_type": "code",
        "colab": {
          "base_uri": "https://localhost:8080/",
          "height": 302
        },
        "outputId": "f9f4dc77-3dc2-488b-919e-6e63d6878836"
      },
      "source": [
        "###### sample\n",
        "y_pred_cs = m.predict(x_test)\n",
        "evaluate_model(y_test, y_pred_cs)\n"
      ],
      "execution_count": null,
      "outputs": [
        {
          "output_type": "stream",
          "text": [
            "confusion matrix\n",
            "True          0     1\n",
            "Predicted            \n",
            "0          3437   368\n",
            "1           685  2431\n",
            "classification report\n",
            "              precision    recall  f1-score   support\n",
            "\n",
            "           0       0.90      0.83      0.87      4122\n",
            "           1       0.78      0.87      0.82      2799\n",
            "\n",
            "    accuracy                           0.85      6921\n",
            "   macro avg       0.84      0.85      0.84      6921\n",
            "weighted avg       0.85      0.85      0.85      6921\n",
            "\n",
            "accuracy score\n",
            "0.8478543563068921\n"
          ],
          "name": "stdout"
        }
      ]
    },
    {
      "cell_type": "markdown",
      "metadata": {
        "id": "GVcsCZzMzywE",
        "colab_type": "text"
      },
      "source": [
        "## Binary encoding"
      ]
    },
    {
      "cell_type": "code",
      "metadata": {
        "id": "Me5FzSLl9fbR",
        "colab_type": "code",
        "colab": {}
      },
      "source": [
        "X = train.drop(columns=['ID','FinalClass_Decimal'],axis=1)\n",
        "y = train['FinalClass_Decimal']"
      ],
      "execution_count": null,
      "outputs": []
    },
    {
      "cell_type": "code",
      "metadata": {
        "id": "eKOSWImW9oSl",
        "colab_type": "code",
        "colab": {}
      },
      "source": [
        "x_train, x_test, y_train, y_test = train_test_split(X, y, test_size=0.33, random_state=42)"
      ],
      "execution_count": null,
      "outputs": []
    },
    {
      "cell_type": "code",
      "metadata": {
        "id": "qMaLzDUQ91G3",
        "colab_type": "code",
        "colab": {}
      },
      "source": [
        "x_train = feature_processing.fit_transform(x_train) \n",
        "x_test = feature_processing.transform(x_test)"
      ],
      "execution_count": null,
      "outputs": []
    },
    {
      "cell_type": "code",
      "metadata": {
        "id": "pE1aUtsAww8a",
        "colab_type": "code",
        "colab": {}
      },
      "source": [
        "X_test = test.drop(\"ID\",axis=1)"
      ],
      "execution_count": null,
      "outputs": []
    },
    {
      "cell_type": "code",
      "metadata": {
        "id": "B_AgG7RqwrNu",
        "colab_type": "code",
        "colab": {}
      },
      "source": [
        "X = feature_processing.fit_transform(X) \n",
        "x_test = feature_processing.transform(X_test)\n",
        "## Performing this because, Vecstack gave good result"
      ],
      "execution_count": null,
      "outputs": []
    },
    {
      "cell_type": "code",
      "metadata": {
        "id": "h39nGNaGeJhX",
        "colab_type": "code",
        "colab": {}
      },
      "source": [
        "import lightgbm as lgb"
      ],
      "execution_count": null,
      "outputs": []
    },
    {
      "cell_type": "code",
      "metadata": {
        "colab_type": "code",
        "id": "MFKGWVbXAQTF",
        "colab": {}
      },
      "source": [
        "import lightgbm as lgb\n",
        "from sklearn.svm import SVC\n",
        "from sklearn.linear_model import LogisticRegression\n",
        "clf1 = lgb.LGBMClassifier(class_weight='balanced')\n",
        "clf2 = RandomForestClassifier(random_state=88)\n",
        "#clf3 = SVC(C = 3.5, kernel = 'rbf', gamma='auto', random_state=42,class_weight=\"balanced\")\n",
        "clf3 = LogisticRegression(class_weight='balanced')\n",
        "\n"
      ],
      "execution_count": null,
      "outputs": []
    },
    {
      "cell_type": "code",
      "metadata": {
        "id": "8MsdCo-Jk5nM",
        "colab_type": "code",
        "colab": {
          "base_uri": "https://localhost:8080/",
          "height": 255
        },
        "outputId": "6239cc90-21e1-4220-c579-6b02f6cccfac"
      },
      "source": [
        "!pip install vecstack\n",
        "from vecstack import stacking "
      ],
      "execution_count": null,
      "outputs": [
        {
          "output_type": "stream",
          "text": [
            "Collecting vecstack\n",
            "  Downloading https://files.pythonhosted.org/packages/d0/a1/b9a1e9e9e5a12078da1ab9788c7885e4c745358f7e57d5f94d9db6a4e898/vecstack-0.4.0.tar.gz\n",
            "Requirement already satisfied: numpy in /usr/local/lib/python3.6/dist-packages (from vecstack) (1.18.5)\n",
            "Requirement already satisfied: scipy in /usr/local/lib/python3.6/dist-packages (from vecstack) (1.4.1)\n",
            "Requirement already satisfied: scikit-learn>=0.18 in /usr/local/lib/python3.6/dist-packages (from vecstack) (0.22.2.post1)\n",
            "Requirement already satisfied: joblib>=0.11 in /usr/local/lib/python3.6/dist-packages (from scikit-learn>=0.18->vecstack) (0.16.0)\n",
            "Building wheels for collected packages: vecstack\n",
            "  Building wheel for vecstack (setup.py) ... \u001b[?25l\u001b[?25hdone\n",
            "  Created wheel for vecstack: filename=vecstack-0.4.0-cp36-none-any.whl size=19877 sha256=8a44ec2c3f67179f6ef52ac3f52b256037bcf708498a3d93ff8f1f6257e0abdf\n",
            "  Stored in directory: /root/.cache/pip/wheels/5f/bb/4e/f6488433d53bc0684673d6845e5bf11a25240577c8151c140e\n",
            "Successfully built vecstack\n",
            "Installing collected packages: vecstack\n",
            "Successfully installed vecstack-0.4.0\n"
          ],
          "name": "stdout"
        }
      ]
    },
    {
      "cell_type": "code",
      "metadata": {
        "colab_type": "code",
        "id": "45QYgTaPAQTX",
        "colab": {
          "base_uri": "https://localhost:8080/",
          "height": 974
        },
        "outputId": "cc124e15-cb7d-4ed9-8575-1fc46a232069"
      },
      "source": [
        "models = [clf1, clf2, clf3]\n",
        "\n",
        "# Compute stacking features\n",
        "S_train, S_test = stacking(models, x_train, y_train, x_test,\n",
        "    regression = False, n_folds = 4,\n",
        "    shuffle = True, random_state = 88, verbose = 2)"
      ],
      "execution_count": null,
      "outputs": [
        {
          "output_type": "stream",
          "text": [
            "task:         [classification]\n",
            "n_classes:    [23]\n",
            "metric:       [accuracy_score]\n",
            "mode:         [oof_pred_bag]\n",
            "n_models:     [3]\n",
            "\n",
            "model  0:     [LGBMClassifier]\n",
            "    fold  0:  [0.65869627]\n",
            "    fold  1:  [0.64161685]\n",
            "    fold  2:  [0.65670367]\n",
            "    fold  3:  [0.66087699]\n",
            "    ----\n",
            "    MEAN:     [0.65447345] + [0.00756808]\n",
            "    FULL:     [0.65447299]\n",
            "\n",
            "model  1:     [RandomForestClassifier]\n",
            "    fold  0:  [0.58980928]\n",
            "    fold  1:  [0.58781668]\n",
            "    fold  2:  [0.57500712]\n",
            "    fold  3:  [0.60421412]\n",
            "    ----\n",
            "    MEAN:     [0.58921180] + [0.01035792]\n",
            "    FULL:     [0.58921073]\n",
            "\n",
            "model  2:     [LogisticRegression]\n"
          ],
          "name": "stdout"
        },
        {
          "output_type": "stream",
          "text": [
            "/usr/local/lib/python3.6/dist-packages/sklearn/linear_model/_logistic.py:940: ConvergenceWarning: lbfgs failed to converge (status=1):\n",
            "STOP: TOTAL NO. of ITERATIONS REACHED LIMIT.\n",
            "\n",
            "Increase the number of iterations (max_iter) or scale the data as shown in:\n",
            "    https://scikit-learn.org/stable/modules/preprocessing.html\n",
            "Please also refer to the documentation for alternative solver options:\n",
            "    https://scikit-learn.org/stable/modules/linear_model.html#logistic-regression\n",
            "  extra_warning_msg=_LOGISTIC_SOLVER_CONVERGENCE_MSG)\n"
          ],
          "name": "stderr"
        },
        {
          "output_type": "stream",
          "text": [
            "    fold  0:  [0.64503274]\n"
          ],
          "name": "stdout"
        },
        {
          "output_type": "stream",
          "text": [
            "/usr/local/lib/python3.6/dist-packages/sklearn/linear_model/_logistic.py:940: ConvergenceWarning: lbfgs failed to converge (status=1):\n",
            "STOP: TOTAL NO. of ITERATIONS REACHED LIMIT.\n",
            "\n",
            "Increase the number of iterations (max_iter) or scale the data as shown in:\n",
            "    https://scikit-learn.org/stable/modules/preprocessing.html\n",
            "Please also refer to the documentation for alternative solver options:\n",
            "    https://scikit-learn.org/stable/modules/linear_model.html#logistic-regression\n",
            "  extra_warning_msg=_LOGISTIC_SOLVER_CONVERGENCE_MSG)\n"
          ],
          "name": "stderr"
        },
        {
          "output_type": "stream",
          "text": [
            "    fold  1:  [0.63307714]\n"
          ],
          "name": "stdout"
        },
        {
          "output_type": "stream",
          "text": [
            "/usr/local/lib/python3.6/dist-packages/sklearn/linear_model/_logistic.py:940: ConvergenceWarning: lbfgs failed to converge (status=1):\n",
            "STOP: TOTAL NO. of ITERATIONS REACHED LIMIT.\n",
            "\n",
            "Increase the number of iterations (max_iter) or scale the data as shown in:\n",
            "    https://scikit-learn.org/stable/modules/preprocessing.html\n",
            "Please also refer to the documentation for alternative solver options:\n",
            "    https://scikit-learn.org/stable/modules/linear_model.html#logistic-regression\n",
            "  extra_warning_msg=_LOGISTIC_SOLVER_CONVERGENCE_MSG)\n"
          ],
          "name": "stderr"
        },
        {
          "output_type": "stream",
          "text": [
            "    fold  2:  [0.64531739]\n",
            "    fold  3:  [0.65689066]\n",
            "    ----\n",
            "    MEAN:     [0.64507948] + [0.00842049]\n",
            "    FULL:     [0.64507864]\n",
            "\n"
          ],
          "name": "stdout"
        }
      ]
    },
    {
      "cell_type": "code",
      "metadata": {
        "colab_type": "code",
        "id": "_rb6C3vZAQTn",
        "colab": {}
      },
      "source": [
        "import xgboost\n",
        "xgb = xgboost.XGBClassifier()\n",
        "model = xgb\n",
        "\n",
        "# Fit 2-nd level model\n",
        "model = model.fit(S_train, y_train)\n",
        "\n",
        "# Predict\n",
        "y_test_pred = model.predict(S_test)"
      ],
      "execution_count": null,
      "outputs": []
    },
    {
      "cell_type": "markdown",
      "metadata": {
        "id": "E72dXl9i6-cD",
        "colab_type": "text"
      },
      "source": [
        "## Testing Vecstack on proper train and test. Already ran vecstack on 16/8 and the accuracy is increased by 0.03 :)"
      ]
    },
    {
      "cell_type": "code",
      "metadata": {
        "colab_type": "code",
        "id": "GLrsWvYNxRv-",
        "colab": {
          "base_uri": "https://localhost:8080/",
          "height": 1000
        },
        "outputId": "6ec35e29-a523-423b-8300-c7e09d89d453"
      },
      "source": [
        "models = [clf1, clf2, clf3]\n",
        "\n",
        "# Compute stacking features\n",
        "S_train, S_test = stacking(models, X, y, x_test,\n",
        "    regression = False, n_folds = 4,\n",
        "    shuffle = True, random_state = 88, verbose = 2)"
      ],
      "execution_count": null,
      "outputs": [
        {
          "output_type": "stream",
          "text": [
            "task:         [classification]\n",
            "n_classes:    [24]\n",
            "metric:       [accuracy_score]\n",
            "mode:         [oof_pred_bag]\n",
            "n_models:     [3]\n",
            "\n",
            "model  0:     [LGBMClassifier]\n",
            "    fold  0:  [0.65821095]\n",
            "    fold  1:  [0.64943735]\n",
            "    fold  2:  [0.64981881]\n",
            "    fold  3:  [0.64600420]\n",
            "    ----\n",
            "    MEAN:     [0.65086782] + [0.00449230]\n",
            "    FULL:     [0.65086782]\n",
            "\n",
            "model  1:     [RandomForestClassifier]\n",
            "    fold  0:  [0.59145527]\n",
            "    fold  1:  [0.59050162]\n",
            "    fold  2:  [0.58840359]\n",
            "    fold  3:  [0.60385276]\n",
            "    ----\n",
            "    MEAN:     [0.59355331] + [0.00604799]\n",
            "    FULL:     [0.59355331]\n",
            "\n",
            "model  2:     [LogisticRegression]\n"
          ],
          "name": "stdout"
        },
        {
          "output_type": "stream",
          "text": [
            "/usr/local/lib/python3.6/dist-packages/sklearn/linear_model/_logistic.py:940: ConvergenceWarning: lbfgs failed to converge (status=1):\n",
            "STOP: TOTAL NO. of ITERATIONS REACHED LIMIT.\n",
            "\n",
            "Increase the number of iterations (max_iter) or scale the data as shown in:\n",
            "    https://scikit-learn.org/stable/modules/preprocessing.html\n",
            "Please also refer to the documentation for alternative solver options:\n",
            "    https://scikit-learn.org/stable/modules/linear_model.html#logistic-regression\n",
            "  extra_warning_msg=_LOGISTIC_SOLVER_CONVERGENCE_MSG)\n"
          ],
          "name": "stderr"
        },
        {
          "output_type": "stream",
          "text": [
            "    fold  0:  [0.65000954]\n"
          ],
          "name": "stdout"
        },
        {
          "output_type": "stream",
          "text": [
            "/usr/local/lib/python3.6/dist-packages/sklearn/linear_model/_logistic.py:940: ConvergenceWarning: lbfgs failed to converge (status=1):\n",
            "STOP: TOTAL NO. of ITERATIONS REACHED LIMIT.\n",
            "\n",
            "Increase the number of iterations (max_iter) or scale the data as shown in:\n",
            "    https://scikit-learn.org/stable/modules/preprocessing.html\n",
            "Please also refer to the documentation for alternative solver options:\n",
            "    https://scikit-learn.org/stable/modules/linear_model.html#logistic-regression\n",
            "  extra_warning_msg=_LOGISTIC_SOLVER_CONVERGENCE_MSG)\n"
          ],
          "name": "stderr"
        },
        {
          "output_type": "stream",
          "text": [
            "    fold  1:  [0.64657639]\n"
          ],
          "name": "stdout"
        },
        {
          "output_type": "stream",
          "text": [
            "/usr/local/lib/python3.6/dist-packages/sklearn/linear_model/_logistic.py:940: ConvergenceWarning: lbfgs failed to converge (status=1):\n",
            "STOP: TOTAL NO. of ITERATIONS REACHED LIMIT.\n",
            "\n",
            "Increase the number of iterations (max_iter) or scale the data as shown in:\n",
            "    https://scikit-learn.org/stable/modules/preprocessing.html\n",
            "Please also refer to the documentation for alternative solver options:\n",
            "    https://scikit-learn.org/stable/modules/linear_model.html#logistic-regression\n",
            "  extra_warning_msg=_LOGISTIC_SOLVER_CONVERGENCE_MSG)\n"
          ],
          "name": "stderr"
        },
        {
          "output_type": "stream",
          "text": [
            "    fold  2:  [0.64295251]\n"
          ],
          "name": "stdout"
        },
        {
          "output_type": "stream",
          "text": [
            "/usr/local/lib/python3.6/dist-packages/sklearn/linear_model/_logistic.py:940: ConvergenceWarning: lbfgs failed to converge (status=1):\n",
            "STOP: TOTAL NO. of ITERATIONS REACHED LIMIT.\n",
            "\n",
            "Increase the number of iterations (max_iter) or scale the data as shown in:\n",
            "    https://scikit-learn.org/stable/modules/preprocessing.html\n",
            "Please also refer to the documentation for alternative solver options:\n",
            "    https://scikit-learn.org/stable/modules/linear_model.html#logistic-regression\n",
            "  extra_warning_msg=_LOGISTIC_SOLVER_CONVERGENCE_MSG)\n"
          ],
          "name": "stderr"
        },
        {
          "output_type": "stream",
          "text": [
            "    fold  3:  [0.64314324]\n",
            "    ----\n",
            "    MEAN:     [0.64567042] + [0.00289061]\n",
            "    FULL:     [0.64567042]\n",
            "\n"
          ],
          "name": "stdout"
        }
      ]
    },
    {
      "cell_type": "code",
      "metadata": {
        "colab_type": "code",
        "id": "nUBgaO0mxRwC",
        "colab": {}
      },
      "source": [
        "import xgboost\n",
        "xgb = xgboost.XGBClassifier()\n",
        "model = xgb\n",
        "\n",
        "# Fit 2-nd level model\n",
        "model = model.fit(S_train, y)\n",
        "\n",
        "# Predict\n",
        "y_test_pred = model.predict(S_test)"
      ],
      "execution_count": null,
      "outputs": []
    },
    {
      "cell_type": "code",
      "metadata": {
        "colab_type": "code",
        "id": "_sPpSdKGKOfX",
        "colab": {}
      },
      "source": [
        "def decimalToBinary(n):  \n",
        "    mybinary = bin(n).replace(\"0b\", \"\") \n",
        "    if(len(mybinary) == 6):\n",
        "      return mybinary\n",
        "    else:\n",
        "      zero_string = '0' * (6 - len(mybinary))\n",
        "      return zero_string+mybinary"
      ],
      "execution_count": null,
      "outputs": []
    },
    {
      "cell_type": "code",
      "metadata": {
        "colab_type": "code",
        "id": "THHOXAgdKOfZ",
        "colab": {}
      },
      "source": [
        "test_df = pd.concat([test,pd.Series(y_test_pred)],axis=1)"
      ],
      "execution_count": null,
      "outputs": []
    },
    {
      "cell_type": "code",
      "metadata": {
        "colab_type": "code",
        "id": "cyXhjpsKKOfb",
        "colab": {}
      },
      "source": [
        "test_df.columns = ['ID', 'TITLE', 'ABSTRACT', 'text', 'FinalClass']"
      ],
      "execution_count": null,
      "outputs": []
    },
    {
      "cell_type": "code",
      "metadata": {
        "colab_type": "code",
        "id": "S5TjRdFHKOfd",
        "colab": {}
      },
      "source": [
        "test_df['FinalClass'] = test_df['FinalClass'].apply(decimalToBinary)"
      ],
      "execution_count": null,
      "outputs": []
    },
    {
      "cell_type": "code",
      "metadata": {
        "colab_type": "code",
        "id": "BJpf-jmyKOff",
        "colab": {}
      },
      "source": [
        "def split(word): \n",
        "    return [char for char in word] \n",
        "test_df['FinalClass'] = test_df['FinalClass'].apply(split)"
      ],
      "execution_count": null,
      "outputs": []
    },
    {
      "cell_type": "code",
      "metadata": {
        "colab_type": "code",
        "id": "olAsl2rXKOfh",
        "colab": {
          "base_uri": "https://localhost:8080/",
          "height": 84
        },
        "outputId": "70ff1c7a-49f5-4305-c955-4199eca1e991"
      },
      "source": [
        "train.columns"
      ],
      "execution_count": null,
      "outputs": [
        {
          "output_type": "execute_result",
          "data": {
            "text/plain": [
              "Index(['ID', 'TITLE', 'ABSTRACT', 'Computer Science', 'Physics', 'Mathematics',\n",
              "       'Statistics', 'Quantitative Biology', 'Quantitative Finance',\n",
              "       'FinalClass', 'FinalClass_Decimal', 'text'],\n",
              "      dtype='object')"
            ]
          },
          "metadata": {
            "tags": []
          },
          "execution_count": 68
        }
      ]
    },
    {
      "cell_type": "code",
      "metadata": {
        "colab_type": "code",
        "id": "IBRhqH2TKOfj",
        "colab": {}
      },
      "source": [
        "test_df[['Computer Science', 'Physics', 'Mathematics',\\\n",
        "       'Statistics', 'Quantitative Biology', 'Quantitative Finance']] = pd.DataFrame(test_df.FinalClass.tolist(), index= test_df.index)"
      ],
      "execution_count": null,
      "outputs": []
    },
    {
      "cell_type": "code",
      "metadata": {
        "colab_type": "code",
        "id": "v-vxkPwDKOfk",
        "colab": {
          "base_uri": "https://localhost:8080/",
          "height": 34
        },
        "outputId": "294ea636-45d6-42af-c079-6eacbdb78aa8"
      },
      "source": [
        "test.shape"
      ],
      "execution_count": null,
      "outputs": [
        {
          "output_type": "execute_result",
          "data": {
            "text/plain": [
              "(8989, 4)"
            ]
          },
          "metadata": {
            "tags": []
          },
          "execution_count": 70
        }
      ]
    },
    {
      "cell_type": "code",
      "metadata": {
        "colab_type": "code",
        "id": "paVajgXnKOfm",
        "colab": {
          "base_uri": "https://localhost:8080/",
          "height": 34
        },
        "outputId": "cb2afa8b-ae80-47e1-c7a6-e0f8af68462e"
      },
      "source": [
        "test_df.shape"
      ],
      "execution_count": null,
      "outputs": [
        {
          "output_type": "execute_result",
          "data": {
            "text/plain": [
              "(8989, 11)"
            ]
          },
          "metadata": {
            "tags": []
          },
          "execution_count": 71
        }
      ]
    },
    {
      "cell_type": "code",
      "metadata": {
        "colab_type": "code",
        "id": "KcRipcEWKOfn",
        "colab": {}
      },
      "source": [
        "test_df.drop(['text','FinalClass'],axis=1,inplace=True)"
      ],
      "execution_count": null,
      "outputs": []
    },
    {
      "cell_type": "code",
      "metadata": {
        "colab_type": "code",
        "id": "X0OnF3HbKOfp",
        "colab": {}
      },
      "source": [
        "cols = ['Computer Science', 'Physics', 'Mathematics',\\\n",
        "       'Statistics', 'Quantitative Biology', 'Quantitative Finance']"
      ],
      "execution_count": null,
      "outputs": []
    },
    {
      "cell_type": "code",
      "metadata": {
        "colab_type": "code",
        "id": "6EK3rvQKKOfr",
        "colab": {}
      },
      "source": [
        "test_df[cols] = test_df[cols].apply(pd.to_numeric, errors='coerce')"
      ],
      "execution_count": null,
      "outputs": []
    },
    {
      "cell_type": "code",
      "metadata": {
        "colab_type": "code",
        "id": "YMLwS5AjKOfs",
        "colab": {
          "base_uri": "https://localhost:8080/",
          "height": 296
        },
        "outputId": "36932f63-63d2-41ce-d82d-86fd682aade6"
      },
      "source": [
        "test_df.head()"
      ],
      "execution_count": null,
      "outputs": [
        {
          "output_type": "execute_result",
          "data": {
            "text/html": [
              "<div>\n",
              "<style scoped>\n",
              "    .dataframe tbody tr th:only-of-type {\n",
              "        vertical-align: middle;\n",
              "    }\n",
              "\n",
              "    .dataframe tbody tr th {\n",
              "        vertical-align: top;\n",
              "    }\n",
              "\n",
              "    .dataframe thead th {\n",
              "        text-align: right;\n",
              "    }\n",
              "</style>\n",
              "<table border=\"1\" class=\"dataframe\">\n",
              "  <thead>\n",
              "    <tr style=\"text-align: right;\">\n",
              "      <th></th>\n",
              "      <th>ID</th>\n",
              "      <th>TITLE</th>\n",
              "      <th>ABSTRACT</th>\n",
              "      <th>Computer Science</th>\n",
              "      <th>Physics</th>\n",
              "      <th>Mathematics</th>\n",
              "      <th>Statistics</th>\n",
              "      <th>Quantitative Biology</th>\n",
              "      <th>Quantitative Finance</th>\n",
              "    </tr>\n",
              "  </thead>\n",
              "  <tbody>\n",
              "    <tr>\n",
              "      <th>0</th>\n",
              "      <td>20973</td>\n",
              "      <td>closedform marginal likelihood in gammapoisson...</td>\n",
              "      <td>we present novel understand of the gammapoisso...</td>\n",
              "      <td>0</td>\n",
              "      <td>0</td>\n",
              "      <td>1</td>\n",
              "      <td>1</td>\n",
              "      <td>0</td>\n",
              "      <td>0</td>\n",
              "    </tr>\n",
              "    <tr>\n",
              "      <th>1</th>\n",
              "      <td>20974</td>\n",
              "      <td>laboratory midir spectra of equilibrate and ig...</td>\n",
              "      <td>meteorites contain minerals from solar system ...</td>\n",
              "      <td>0</td>\n",
              "      <td>1</td>\n",
              "      <td>0</td>\n",
              "      <td>0</td>\n",
              "      <td>0</td>\n",
              "      <td>0</td>\n",
              "    </tr>\n",
              "    <tr>\n",
              "      <th>2</th>\n",
              "      <td>20975</td>\n",
              "      <td>case for static amsdu aggregation in wlans</td>\n",
              "      <td>frame aggregation be a mechanism by which mult...</td>\n",
              "      <td>1</td>\n",
              "      <td>0</td>\n",
              "      <td>0</td>\n",
              "      <td>0</td>\n",
              "      <td>0</td>\n",
              "      <td>0</td>\n",
              "    </tr>\n",
              "    <tr>\n",
              "      <th>3</th>\n",
              "      <td>20976</td>\n",
              "      <td>the gaia eso survey the inner disk intermediat...</td>\n",
              "      <td>milky way open cluster be very diverse in term...</td>\n",
              "      <td>0</td>\n",
              "      <td>1</td>\n",
              "      <td>0</td>\n",
              "      <td>0</td>\n",
              "      <td>0</td>\n",
              "      <td>0</td>\n",
              "    </tr>\n",
              "    <tr>\n",
              "      <th>4</th>\n",
              "      <td>20977</td>\n",
              "      <td>witnessfunctions versus interpretationfunction...</td>\n",
              "      <td>prove that a cryptographic protocol be correct...</td>\n",
              "      <td>1</td>\n",
              "      <td>0</td>\n",
              "      <td>0</td>\n",
              "      <td>0</td>\n",
              "      <td>0</td>\n",
              "      <td>0</td>\n",
              "    </tr>\n",
              "  </tbody>\n",
              "</table>\n",
              "</div>"
            ],
            "text/plain": [
              "      ID  ... Quantitative Finance\n",
              "0  20973  ...                    0\n",
              "1  20974  ...                    0\n",
              "2  20975  ...                    0\n",
              "3  20976  ...                    0\n",
              "4  20977  ...                    0\n",
              "\n",
              "[5 rows x 9 columns]"
            ]
          },
          "metadata": {
            "tags": []
          },
          "execution_count": 75
        }
      ]
    },
    {
      "cell_type": "code",
      "metadata": {
        "colab_type": "code",
        "id": "srbHN8vQKOfu",
        "colab": {}
      },
      "source": [
        "test_df.drop([\"TITLE\",'ABSTRACT'],axis=1,inplace=True)"
      ],
      "execution_count": null,
      "outputs": []
    },
    {
      "cell_type": "code",
      "metadata": {
        "colab_type": "code",
        "id": "0SRyvv1fKOfw",
        "colab": {}
      },
      "source": [
        "test_df.to_csv(\"vecstack_binary.csv\",index=False)"
      ],
      "execution_count": null,
      "outputs": []
    },
    {
      "cell_type": "markdown",
      "metadata": {
        "id": "c3RIiEwXIq8s",
        "colab_type": "text"
      },
      "source": [
        "## Helpful methods"
      ]
    },
    {
      "cell_type": "code",
      "metadata": {
        "id": "pv4uUmbL-3iC",
        "colab_type": "code",
        "colab": {}
      },
      "source": [
        "def print_score(m):\n",
        "  all_metrics = [m.score(X_train,y_train),m.score(X_test,y_test), m.score(X_valid, y_valid)]\n",
        "  if hasattr(m,\"oob_score\"):\n",
        "    all_metrics.append(m.oob_score)\n",
        "  return all_metrics \n",
        "\n",
        "\n",
        "def evaluate_model(y_true, y_pred):\n",
        "    print('confusion matrix')\n",
        "    cm = confusion_matrix(y_true, y_pred)\n",
        "    cm_df = pd.DataFrame(cm.T)\n",
        "    cm_df.index.name = 'Predicted'\n",
        "    cm_df.columns.name = 'True'\n",
        "    print(cm_df)\n",
        "    print('classification report')\n",
        "    print(classification_report(y_true,y_pred))\n",
        "    print('accuracy score')\n",
        "    print(accuracy_score(y_true, y_pred))"
      ],
      "execution_count": null,
      "outputs": []
    },
    {
      "cell_type": "code",
      "metadata": {
        "id": "RhCIQtaQ7A8Q",
        "colab_type": "code",
        "colab": {
          "base_uri": "https://localhost:8080/",
          "height": 1000
        },
        "outputId": "bd9f80c1-4892-430f-b3bf-13bec7d1720e"
      },
      "source": [
        "evaluate_model(y_test, y_test_pred)"
      ],
      "execution_count": null,
      "outputs": [
        {
          "output_type": "stream",
          "text": [
            "confusion matrix\n",
            "True       0   1   2    3   4   5     6    7   ...   14  15  16   17  18  19  20  21\n",
            "Predicted                                      ...                                  \n",
            "0          46   0   0    3   3   0     6    1  ...    0   1   0    0   0   0   0   0\n",
            "1           2  83   0   10   0   7     5    0  ...    3   0   1    0   1   9   0   0\n",
            "2           0   0   0    0   0   0     0    0  ...    0   0   0    0   0   0   0   0\n",
            "3           3   8   0  142   0  13     7   49  ...   89   1   1    8   6   5   1   0\n",
            "4           0   0   0    0   0   0     0    0  ...    0   0   0    0   0   0   0   0\n",
            "5           0   0   0    0   0   0     0    0  ...    0   0   0    0   0   0   0   0\n",
            "6           1   2   1    4   0   0  1037   27  ...    2   0   0   68   3   5   0   0\n",
            "7           1   1   0   50   0   0    18  168  ...   14   0   0    7  14   1   1   0\n",
            "8           5  20   1    9   0   1    29    2  ...    8   0   0    9   0  14   2   1\n",
            "9           0   0   0    0   0   0     0    0  ...    0   0   0    0   0   0   0   0\n",
            "10          0   0   0    0   0   0     0    0  ...    0   0   0    0   0   0   0   0\n",
            "11          0   0   0    0   0   0     0    0  ...    0   0   0    0   0   0   0   0\n",
            "12          6  28   0   99   1   7    53   23  ...  211   0   0  130  12  71   3   4\n",
            "13          0   0   0    0   0   0     0    0  ...    0   0   0    0   0   0   0   0\n",
            "14          0  10   0  199   0  16     6   11  ...  412   0   0   11  25   6   7   0\n",
            "15          0   0   0    0   0   0     0    0  ...    0   0   0    0   0   0   0   0\n",
            "16          0   0   0    0   0   0     0    0  ...    0   0   0    0   0   0   0   0\n",
            "17          0   0   0    0   0   0     0    0  ...    0   0   0    1   0   0   0   0\n",
            "18          0   0   0    1   0   0     0    2  ...    1   0   0    0   1   0   0   0\n",
            "19          0   3   0    3   0   1     1    1  ...    1   0   1    1   2  23   3   0\n",
            "20          0   0   0    0   0   0     0    0  ...    0   0   0    0   0   0   0   0\n",
            "21          0   0   0    0   0   0     0    0  ...    0   0   0    0   0   0   0   0\n",
            "\n",
            "[22 rows x 22 columns]\n",
            "classification report\n",
            "              precision    recall  f1-score   support\n",
            "\n",
            "           1       0.72      0.72      0.72        64\n",
            "           2       0.48      0.54      0.51       155\n",
            "           3       0.00      0.00      0.00         2\n",
            "           4       0.37      0.27      0.31       520\n",
            "           5       0.00      0.00      0.00         4\n",
            "           6       0.00      0.00      0.00        45\n",
            "           8       0.77      0.89      0.83      1162\n",
            "          12       0.58      0.59      0.59       284\n",
            "          16       0.90      0.90      0.90      1734\n",
            "          20       1.00      0.03      0.06        31\n",
            "          24       0.20      0.01      0.02       119\n",
            "          28       0.00      0.00      0.00         2\n",
            "          32       0.64      0.78      0.70      1590\n",
            "          34       0.00      0.00      0.00         8\n",
            "          36       0.46      0.56      0.51       741\n",
            "          37       0.00      0.00      0.00         2\n",
            "          38       0.00      0.00      0.00         3\n",
            "          40       1.00      0.00      0.01       235\n",
            "          44       0.20      0.02      0.03        64\n",
            "          48       0.35      0.17      0.23       134\n",
            "          52       0.00      0.00      0.00        17\n",
            "          56       0.00      0.00      0.00         5\n",
            "\n",
            "    accuracy                           0.68      6921\n",
            "   macro avg       0.35      0.25      0.25      6921\n",
            "weighted avg       0.67      0.68      0.65      6921\n",
            "\n",
            "accuracy score\n",
            "0.6829937870249964\n"
          ],
          "name": "stdout"
        },
        {
          "output_type": "stream",
          "text": [
            "/usr/local/lib/python3.6/dist-packages/sklearn/metrics/_classification.py:1272: UndefinedMetricWarning: Precision and F-score are ill-defined and being set to 0.0 in labels with no predicted samples. Use `zero_division` parameter to control this behavior.\n",
            "  _warn_prf(average, modifier, msg_start, len(result))\n"
          ],
          "name": "stderr"
        }
      ]
    },
    {
      "cell_type": "code",
      "metadata": {
        "id": "4CwFQ1FkntkS",
        "colab_type": "code",
        "colab": {
          "base_uri": "https://localhost:8080/",
          "height": 1000
        },
        "outputId": "74c3729e-d627-4fd2-c827-2e816af504d5"
      },
      "source": [
        "evaluate_model(y_test, y_pred)"
      ],
      "execution_count": null,
      "outputs": [
        {
          "output_type": "stream",
          "text": [
            "confusion matrix\n",
            "True       0   1   2    3   4   5     6    7   ...   14  15  16   17  18  19  20  21\n",
            "Predicted                                      ...                                  \n",
            "0          11   0   0    0   0   0     1    0  ...    1   0   0    0   0   0   0   0\n",
            "1           0   0   0    0   0   0     0    0  ...    0   0   0    0   0   0   0   0\n",
            "2           0   0   0    0   0   0     0    0  ...    0   0   0    0   0   0   0   0\n",
            "3           1   0   0    9   0   0     0    3  ...    6   0   0    0   1   0   0   0\n",
            "4           0   0   0    0   0   0     0    0  ...    0   0   0    0   0   0   0   0\n",
            "5           0   0   0    0   0   0     0    0  ...    0   0   0    0   0   0   0   0\n",
            "6          15   5   1   36   0   0  1061   98  ...   20   0   0  109  12   8   1   2\n",
            "7           1   0   0   14   0   0     0   43  ...    1   0   0    0   1   0   0   0\n",
            "8          18  90   1   41   1   4    36   25  ...   20   0   0   19   4  38   0   0\n",
            "9           0   0   0    0   0   0     0    0  ...    0   0   0    0   0   0   0   0\n",
            "10          0   0   0    0   0   0     0    0  ...    0   0   0    0   0   0   0   0\n",
            "11          0   0   0    0   0   0     0    0  ...    0   0   0    0   0   0   0   0\n",
            "12         18  58   0  363   3  33    63  111  ...  584   2   3  104  35  82  13   3\n",
            "13          0   0   0    0   0   0     0    0  ...    0   0   0    0   0   0   0   0\n",
            "14          0   2   0   57   0   8     1    4  ...  109   0   0    3  10   4   3   0\n",
            "15          0   0   0    0   0   0     0    0  ...    0   0   0    0   0   0   0   0\n",
            "16          0   0   0    0   0   0     0    0  ...    0   0   0    0   0   0   0   0\n",
            "17          0   0   0    0   0   0     0    0  ...    0   0   0    0   0   0   0   0\n",
            "18          0   0   0    0   0   0     0    0  ...    0   0   0    0   1   0   0   0\n",
            "19          0   0   0    0   0   0     0    0  ...    0   0   0    0   0   2   0   0\n",
            "20          0   0   0    0   0   0     0    0  ...    0   0   0    0   0   0   0   0\n",
            "21          0   0   0    0   0   0     0    0  ...    0   0   0    0   0   0   0   0\n",
            "\n",
            "[22 rows x 22 columns]\n",
            "classification report\n",
            "              precision    recall  f1-score   support\n",
            "\n",
            "           1       0.73      0.17      0.28        64\n",
            "           2       0.00      0.00      0.00       155\n",
            "           3       0.00      0.00      0.00         2\n",
            "           4       0.45      0.02      0.03       520\n",
            "           5       0.00      0.00      0.00         4\n",
            "           6       0.00      0.00      0.00        45\n",
            "           8       0.62      0.91      0.74      1162\n",
            "          12       0.72      0.15      0.25       284\n",
            "          16       0.78      0.89      0.83      1734\n",
            "          20       0.00      0.00      0.00        31\n",
            "          24       0.00      0.00      0.00       119\n",
            "          28       0.00      0.00      0.00         2\n",
            "          32       0.45      0.81      0.58      1590\n",
            "          34       0.00      0.00      0.00         8\n",
            "          36       0.44      0.15      0.22       741\n",
            "          37       0.00      0.00      0.00         2\n",
            "          38       0.00      0.00      0.00         3\n",
            "          40       0.00      0.00      0.00       235\n",
            "          44       1.00      0.02      0.03        64\n",
            "          48       1.00      0.01      0.03       134\n",
            "          52       0.00      0.00      0.00        17\n",
            "          56       0.00      0.00      0.00         5\n",
            "\n",
            "    accuracy                           0.59      6921\n",
            "   macro avg       0.28      0.14      0.14      6921\n",
            "weighted avg       0.55      0.59      0.50      6921\n",
            "\n",
            "accuracy score\n",
            "0.5880653084814333\n"
          ],
          "name": "stdout"
        },
        {
          "output_type": "stream",
          "text": [
            "/usr/local/lib/python3.6/dist-packages/sklearn/metrics/_classification.py:1272: UndefinedMetricWarning: Precision and F-score are ill-defined and being set to 0.0 in labels with no predicted samples. Use `zero_division` parameter to control this behavior.\n",
            "  _warn_prf(average, modifier, msg_start, len(result))\n"
          ],
          "name": "stderr"
        }
      ]
    },
    {
      "cell_type": "code",
      "metadata": {
        "id": "7Clupzml_jKP",
        "colab_type": "code",
        "colab": {
          "base_uri": "https://localhost:8080/",
          "height": 1000
        },
        "outputId": "d593f468-e27c-4ca5-9a0b-0d66f753bcd9"
      },
      "source": [
        "evaluate_model(y_test, y_pred)"
      ],
      "execution_count": null,
      "outputs": [
        {
          "output_type": "stream",
          "text": [
            "confusion matrix\n",
            "True       0   1   2    3   4   5     6    7   ...   14  15  16   17  18  19  20  21\n",
            "Predicted                                      ...                                  \n",
            "0           0   0   0    0   0   0     0    0  ...    0   0   0    0   0   0   0   0\n",
            "1           0   0   0    0   0   0     0    0  ...    0   0   0    0   0   0   0   0\n",
            "2           0   0   0    0   0   0     0    0  ...    0   0   0    0   0   0   0   0\n",
            "3           0   0   0    4   0   0     0    5  ...    1   0   0    0   0   0   0   0\n",
            "4           0   0   0    0   0   0     0    0  ...    0   0   0    0   0   0   0   0\n",
            "5           0   0   0    0   0   0     0    0  ...    0   0   0    0   0   0   0   0\n",
            "6          17   7   0   47   0   0  1062  128  ...   20   0   0  109  12   8   2   0\n",
            "7           0   0   0    2   0   0     0   16  ...    0   0   0    0   0   0   0   0\n",
            "8          21  79   1   36   1   3    33   18  ...   13   0   0    7   0  31   2   0\n",
            "9           0   0   0    0   0   0     0    0  ...    0   0   0    0   0   0   0   0\n",
            "10          0   0   0    0   0   0     0    0  ...    0   0   0    0   0   0   0   0\n",
            "11          0   0   0    0   0   0     0    0  ...    0   0   0    0   0   0   0   0\n",
            "12         26  69   1  397   3  40    66  114  ...  650   2   3  119  46  93  12   5\n",
            "13          0   0   0    0   0   0     0    0  ...    0   0   0    0   0   0   0   0\n",
            "14          0   0   0   34   0   2     1    3  ...   57   0   0    0   5   0   1   0\n",
            "15          0   0   0    0   0   0     0    0  ...    0   0   0    0   0   0   0   0\n",
            "16          0   0   0    0   0   0     0    0  ...    0   0   0    0   0   0   0   0\n",
            "17          0   0   0    0   0   0     0    0  ...    0   0   0    0   0   0   0   0\n",
            "18          0   0   0    0   0   0     0    0  ...    0   0   0    0   1   0   0   0\n",
            "19          0   0   0    0   0   0     0    0  ...    0   0   0    0   0   2   0   0\n",
            "20          0   0   0    0   0   0     0    0  ...    0   0   0    0   0   0   0   0\n",
            "21          0   0   0    0   0   0     0    0  ...    0   0   0    0   0   0   0   0\n",
            "\n",
            "[22 rows x 22 columns]\n",
            "classification report\n",
            "              precision    recall  f1-score   support\n",
            "\n",
            "           1       0.00      0.00      0.00        64\n",
            "           2       0.00      0.00      0.00       155\n",
            "           3       0.00      0.00      0.00         2\n",
            "           4       0.40      0.01      0.02       520\n",
            "           5       0.00      0.00      0.00         4\n",
            "           6       0.00      0.00      0.00        45\n",
            "           8       0.63      0.91      0.74      1162\n",
            "          12       0.89      0.06      0.11       284\n",
            "          16       0.81      0.90      0.86      1734\n",
            "          20       0.00      0.00      0.00        31\n",
            "          24       0.00      0.00      0.00       119\n",
            "          28       0.00      0.00      0.00         2\n",
            "          32       0.44      0.88      0.59      1590\n",
            "          34       0.00      0.00      0.00         8\n",
            "          36       0.50      0.08      0.13       741\n",
            "          37       0.00      0.00      0.00         2\n",
            "          38       0.00      0.00      0.00         3\n",
            "          40       0.00      0.00      0.00       235\n",
            "          44       1.00      0.02      0.03        64\n",
            "          48       1.00      0.01      0.03       134\n",
            "          52       0.00      0.00      0.00        17\n",
            "          56       0.00      0.00      0.00         5\n",
            "\n",
            "    accuracy                           0.59      6921\n",
            "   macro avg       0.26      0.13      0.11      6921\n",
            "weighted avg       0.56      0.59      0.49      6921\n",
            "\n",
            "accuracy score\n",
            "0.5919664788325386\n"
          ],
          "name": "stdout"
        },
        {
          "output_type": "stream",
          "text": [
            "/usr/local/lib/python3.6/dist-packages/sklearn/metrics/_classification.py:1272: UndefinedMetricWarning: Precision and F-score are ill-defined and being set to 0.0 in labels with no predicted samples. Use `zero_division` parameter to control this behavior.\n",
            "  _warn_prf(average, modifier, msg_start, len(result))\n"
          ],
          "name": "stderr"
        }
      ]
    },
    {
      "cell_type": "code",
      "metadata": {
        "id": "ITOI42oxnwsy",
        "colab_type": "code",
        "colab": {}
      },
      "source": [
        "import lightgbm as lgb"
      ],
      "execution_count": null,
      "outputs": []
    },
    {
      "cell_type": "code",
      "metadata": {
        "id": "XLB--_uOnzW_",
        "colab_type": "code",
        "colab": {}
      },
      "source": [
        "m = lgb.LGBMClassifier(class_weight='balanced')"
      ],
      "execution_count": null,
      "outputs": []
    },
    {
      "cell_type": "code",
      "metadata": {
        "id": "cjI9cjkon4AG",
        "colab_type": "code",
        "colab": {
          "base_uri": "https://localhost:8080/",
          "height": 134
        },
        "outputId": "1cb2bda5-7544-4218-8da2-1ab5ba4da11d"
      },
      "source": [
        "m.fit(x_train,y_train)"
      ],
      "execution_count": null,
      "outputs": [
        {
          "output_type": "execute_result",
          "data": {
            "text/plain": [
              "LGBMClassifier(boosting_type='gbdt', class_weight='balanced',\n",
              "               colsample_bytree=1.0, importance_type='split', learning_rate=0.1,\n",
              "               max_depth=-1, min_child_samples=20, min_child_weight=0.001,\n",
              "               min_split_gain=0.0, n_estimators=100, n_jobs=-1, num_leaves=31,\n",
              "               objective=None, random_state=None, reg_alpha=0.0, reg_lambda=0.0,\n",
              "               silent=True, subsample=1.0, subsample_for_bin=200000,\n",
              "               subsample_freq=0)"
            ]
          },
          "metadata": {
            "tags": []
          },
          "execution_count": 62
        }
      ]
    },
    {
      "cell_type": "markdown",
      "metadata": {
        "id": "0VVCRC_3Nr--",
        "colab_type": "text"
      },
      "source": [
        "## Use one label at a time\n",
        "Need to perform this"
      ]
    },
    {
      "cell_type": "markdown",
      "metadata": {
        "id": "2YqqtbumNuD7",
        "colab_type": "text"
      },
      "source": [
        "## Predictions"
      ]
    },
    {
      "cell_type": "code",
      "metadata": {
        "id": "wPKBNLBPn8_a",
        "colab_type": "code",
        "colab": {
          "base_uri": "https://localhost:8080/",
          "height": 1000
        },
        "outputId": "70de5814-65f2-434f-ad6a-e0413a1af4cd"
      },
      "source": [
        "y_pred = m.predict(x_test)\n",
        "evaluate_model(y_test, y_pred)"
      ],
      "execution_count": null,
      "outputs": [
        {
          "output_type": "stream",
          "text": [
            "confusion matrix\n",
            "True       0   1   2    3   4   5     6    7   ...   14  15  16  17  18  19  20  21\n",
            "Predicted                                      ...                                 \n",
            "0          30   0   0    3   2   0     4    1  ...    0   1   0   0   0   0   0   0\n",
            "1           1  48   0    4   0   5     2    1  ...    2   0   0   1   1   5   0   0\n",
            "2           0   0   0    0   0   0     0    0  ...    0   0   0   0   0   0   0   0\n",
            "3           5  17   0  159   0  17    10   47  ...  127   1   1   9  16  10   3   0\n",
            "4           0   0   0    0   0   0     0    0  ...    0   0   0   0   0   0   0   0\n",
            "5           0   0   0    0   0   0     0    0  ...    0   0   0   0   0   0   0   0\n",
            "6           6   4   1    7   0   0  1020   22  ...    5   0   0  61   4   6   0   0\n",
            "7           3   3   0   61   0   0     6  171  ...   26   0   0   8   6   2   2   2\n",
            "8           6  34   1   11   0   0    29    0  ...    5   0   0   5   1  16   1   0\n",
            "9           0   0   0    0   0   0     0    0  ...    0   0   0   0   0   1   0   0\n",
            "10          1   0   0    0   0   0     5    1  ...    0   0   0   1   0   1   0   0\n",
            "11          0   0   0    0   0   0     0    0  ...    0   0   0   0   0   0   0   0\n",
            "12          9  17   0   63   0   4    38   16  ...  162   0   0  71   7  50   2   1\n",
            "13          0   0   0    0   0   0     0    0  ...    0   0   0   0   0   0   0   0\n",
            "14          0  19   0  201   2  17    10   11  ...  403   0   1  19  20  12   6   1\n",
            "15          0   0   0    0   0   0     0    0  ...    0   0   0   0   0   0   0   0\n",
            "16          0   0   0    0   0   0     0    0  ...    0   0   0   0   0   0   0   0\n",
            "17          0   2   0    6   0   0    36    9  ...    6   0   0  56   4   2   0   1\n",
            "18          0   0   0    0   0   0     0    3  ...    2   0   0   2   3   0   0   0\n",
            "19          3  11   0    5   0   2     2    2  ...    3   0   1   2   2  29   3   0\n",
            "20          0   0   0    0   0   0     0    0  ...    0   0   0   0   0   0   0   0\n",
            "21          0   0   0    0   0   0     0    0  ...    0   0   0   0   0   0   0   0\n",
            "\n",
            "[22 rows x 22 columns]\n",
            "classification report\n",
            "              precision    recall  f1-score   support\n",
            "\n",
            "           1       0.65      0.47      0.55        64\n",
            "           2       0.45      0.31      0.37       155\n",
            "           3       0.00      0.00      0.00         2\n",
            "           4       0.29      0.31      0.30       520\n",
            "           5       0.00      0.00      0.00         4\n",
            "           6       0.00      0.00      0.00        45\n",
            "           8       0.78      0.88      0.83      1162\n",
            "          12       0.55      0.60      0.58       284\n",
            "          16       0.90      0.89      0.89      1734\n",
            "          20       0.00      0.00      0.00        31\n",
            "          24       0.15      0.03      0.05       119\n",
            "          28       0.00      0.00      0.00         2\n",
            "          32       0.68      0.63      0.65      1590\n",
            "          34       0.00      0.00      0.00         8\n",
            "          36       0.41      0.54      0.47       741\n",
            "          37       0.00      0.00      0.00         2\n",
            "          38       0.00      0.00      0.00         3\n",
            "          40       0.25      0.24      0.24       235\n",
            "          44       0.27      0.05      0.08        64\n",
            "          48       0.22      0.22      0.22       134\n",
            "          52       0.00      0.00      0.00        17\n",
            "          56       0.00      0.00      0.00         5\n",
            "\n",
            "    accuracy                           0.65      6921\n",
            "   macro avg       0.25      0.23      0.24      6921\n",
            "weighted avg       0.63      0.65      0.64      6921\n",
            "\n",
            "accuracy score\n",
            "0.6470163271203583\n"
          ],
          "name": "stdout"
        },
        {
          "output_type": "stream",
          "text": [
            "/usr/local/lib/python3.6/dist-packages/sklearn/metrics/_classification.py:1272: UndefinedMetricWarning: Precision and F-score are ill-defined and being set to 0.0 in labels with no predicted samples. Use `zero_division` parameter to control this behavior.\n",
            "  _warn_prf(average, modifier, msg_start, len(result))\n"
          ],
          "name": "stderr"
        }
      ]
    },
    {
      "cell_type": "code",
      "metadata": {
        "colab_type": "code",
        "id": "ErWrxD4ft878",
        "colab": {}
      },
      "source": [
        "test['ABSTRACT'] = test['ABSTRACT'].apply(preprocess)\n",
        "test['TITLE'] = test['TITLE'].apply(preprocess)"
      ],
      "execution_count": null,
      "outputs": []
    },
    {
      "cell_type": "code",
      "metadata": {
        "colab_type": "code",
        "id": "BzbElxuHt88T",
        "colab": {}
      },
      "source": [
        "test['text'] = test['ABSTRACT'] + test['TITLE']"
      ],
      "execution_count": null,
      "outputs": []
    },
    {
      "cell_type": "code",
      "metadata": {
        "colab_type": "code",
        "id": "fpsf8ooPuRIB",
        "colab": {}
      },
      "source": [
        "X_main_test = test"
      ],
      "execution_count": null,
      "outputs": []
    },
    {
      "cell_type": "code",
      "metadata": {
        "colab_type": "code",
        "id": "btSwCbchuRIt",
        "colab": {}
      },
      "source": [
        "X_main_test = feature_processing.transform(X_main_test) "
      ],
      "execution_count": null,
      "outputs": []
    },
    {
      "cell_type": "code",
      "metadata": {
        "id": "BUa_3lOUueRs",
        "colab_type": "code",
        "colab": {}
      },
      "source": [
        "y_main_test = m.predict(X_main_test)"
      ],
      "execution_count": null,
      "outputs": []
    },
    {
      "cell_type": "code",
      "metadata": {
        "id": "JacWNXJpukzA",
        "colab_type": "code",
        "colab": {
          "base_uri": "https://localhost:8080/",
          "height": 34
        },
        "outputId": "986cba2f-7bf5-4d1b-a3ef-11b86d71756f"
      },
      "source": [
        "y_main_test"
      ],
      "execution_count": null,
      "outputs": [
        {
          "output_type": "execute_result",
          "data": {
            "text/plain": [
              "array([12, 16, 32, ..., 32,  4, 32])"
            ]
          },
          "metadata": {
            "tags": []
          },
          "execution_count": 69
        }
      ]
    },
    {
      "cell_type": "code",
      "metadata": {
        "id": "o_ubvXiiuqHy",
        "colab_type": "code",
        "colab": {}
      },
      "source": [
        "def decimalToBinary(n):  \n",
        "    mybinary = bin(n).replace(\"0b\", \"\") \n",
        "    if(len(mybinary) == 6):\n",
        "      return mybinary\n",
        "    else:\n",
        "      zero_string = '0' * (6 - len(mybinary))\n",
        "      return zero_string+mybinary"
      ],
      "execution_count": null,
      "outputs": []
    },
    {
      "cell_type": "code",
      "metadata": {
        "id": "AykYq7Ksuzl_",
        "colab_type": "code",
        "colab": {}
      },
      "source": [
        "test_df = pd.concat([test,pd.Series(y_main_test)],axis=1)"
      ],
      "execution_count": null,
      "outputs": []
    },
    {
      "cell_type": "code",
      "metadata": {
        "id": "9KQ0O9Q1u2Qc",
        "colab_type": "code",
        "colab": {}
      },
      "source": [
        "test_df.columns = ['ID', 'TITLE', 'ABSTRACT', 'text', 'FinalClass']"
      ],
      "execution_count": null,
      "outputs": []
    },
    {
      "cell_type": "code",
      "metadata": {
        "id": "_ZRocRotvvaT",
        "colab_type": "code",
        "colab": {}
      },
      "source": [
        "test_df['FinalClass'] = test_df['FinalClass'].apply(decimalToBinary)"
      ],
      "execution_count": null,
      "outputs": []
    },
    {
      "cell_type": "code",
      "metadata": {
        "id": "FBiJsrK7v3aP",
        "colab_type": "code",
        "colab": {}
      },
      "source": [
        "def split(word): \n",
        "    return [char for char in word] \n",
        "test_df['FinalClass'] = test_df['FinalClass'].apply(split)"
      ],
      "execution_count": null,
      "outputs": []
    },
    {
      "cell_type": "code",
      "metadata": {
        "id": "MhKz0DLLw6ot",
        "colab_type": "code",
        "colab": {
          "base_uri": "https://localhost:8080/",
          "height": 84
        },
        "outputId": "7ccf1611-0713-41fd-b936-b21d182ce46d"
      },
      "source": [
        "train.columns"
      ],
      "execution_count": null,
      "outputs": [
        {
          "output_type": "execute_result",
          "data": {
            "text/plain": [
              "Index(['ID', 'TITLE', 'ABSTRACT', 'Computer Science', 'Physics', 'Mathematics',\n",
              "       'Statistics', 'Quantitative Biology', 'Quantitative Finance',\n",
              "       'FinalClass', 'FinalClass_Decimal', 'text'],\n",
              "      dtype='object')"
            ]
          },
          "metadata": {
            "tags": []
          },
          "execution_count": 85
        }
      ]
    },
    {
      "cell_type": "code",
      "metadata": {
        "id": "mS1Bz-s8v4cB",
        "colab_type": "code",
        "colab": {}
      },
      "source": [
        "test_df[['Computer Science', 'Physics', 'Mathematics',\\\n",
        "       'Statistics', 'Quantitative Biology', 'Quantitative Finance']] = pd.DataFrame(test_df.FinalClass.tolist(), index= test_df.index)"
      ],
      "execution_count": null,
      "outputs": []
    },
    {
      "cell_type": "code",
      "metadata": {
        "id": "fQXZentlxITo",
        "colab_type": "code",
        "colab": {
          "base_uri": "https://localhost:8080/",
          "height": 34
        },
        "outputId": "50d761c1-ad28-4dc2-8b36-8671c9712076"
      },
      "source": [
        "test.shape"
      ],
      "execution_count": null,
      "outputs": [
        {
          "output_type": "execute_result",
          "data": {
            "text/plain": [
              "(8989, 4)"
            ]
          },
          "metadata": {
            "tags": []
          },
          "execution_count": 88
        }
      ]
    },
    {
      "cell_type": "code",
      "metadata": {
        "id": "6ZP_mtXZwzVL",
        "colab_type": "code",
        "colab": {
          "base_uri": "https://localhost:8080/",
          "height": 34
        },
        "outputId": "18cdcc29-0177-46b6-d68b-1a5029f91bdc"
      },
      "source": [
        "test_df.shape"
      ],
      "execution_count": null,
      "outputs": [
        {
          "output_type": "execute_result",
          "data": {
            "text/plain": [
              "(8989, 11)"
            ]
          },
          "metadata": {
            "tags": []
          },
          "execution_count": 89
        }
      ]
    },
    {
      "cell_type": "code",
      "metadata": {
        "id": "xxztOQbvxGIV",
        "colab_type": "code",
        "colab": {}
      },
      "source": [
        "test_df.drop(['text','FinalClass'],axis=1,inplace=True)"
      ],
      "execution_count": null,
      "outputs": []
    },
    {
      "cell_type": "code",
      "metadata": {
        "id": "UxS17DTExXlv",
        "colab_type": "code",
        "colab": {}
      },
      "source": [
        "cols = ['Computer Science', 'Physics', 'Mathematics',\\\n",
        "       'Statistics', 'Quantitative Biology', 'Quantitative Finance']"
      ],
      "execution_count": null,
      "outputs": []
    },
    {
      "cell_type": "code",
      "metadata": {
        "id": "eGDPkHdqxmB2",
        "colab_type": "code",
        "colab": {}
      },
      "source": [
        "test_df[cols] = test_df[cols].apply(pd.to_numeric, errors='coerce')"
      ],
      "execution_count": null,
      "outputs": []
    },
    {
      "cell_type": "code",
      "metadata": {
        "id": "8gCY1PtJyRrW",
        "colab_type": "code",
        "colab": {
          "base_uri": "https://localhost:8080/",
          "height": 296
        },
        "outputId": "e8907801-f1c8-4947-de94-86aaf716ace7"
      },
      "source": [
        "test_df.head()"
      ],
      "execution_count": null,
      "outputs": [
        {
          "output_type": "execute_result",
          "data": {
            "text/html": [
              "<div>\n",
              "<style scoped>\n",
              "    .dataframe tbody tr th:only-of-type {\n",
              "        vertical-align: middle;\n",
              "    }\n",
              "\n",
              "    .dataframe tbody tr th {\n",
              "        vertical-align: top;\n",
              "    }\n",
              "\n",
              "    .dataframe thead th {\n",
              "        text-align: right;\n",
              "    }\n",
              "</style>\n",
              "<table border=\"1\" class=\"dataframe\">\n",
              "  <thead>\n",
              "    <tr style=\"text-align: right;\">\n",
              "      <th></th>\n",
              "      <th>ID</th>\n",
              "      <th>TITLE</th>\n",
              "      <th>ABSTRACT</th>\n",
              "      <th>Computer Science</th>\n",
              "      <th>Physics</th>\n",
              "      <th>Mathematics</th>\n",
              "      <th>Statistics</th>\n",
              "      <th>Quantitative Biology</th>\n",
              "      <th>Quantitative Finance</th>\n",
              "    </tr>\n",
              "  </thead>\n",
              "  <tbody>\n",
              "    <tr>\n",
              "      <th>0</th>\n",
              "      <td>20973</td>\n",
              "      <td>closedform marginal likelihood in gammapoisson...</td>\n",
              "      <td>we present novel understand of the gammapoisso...</td>\n",
              "      <td>0</td>\n",
              "      <td>0</td>\n",
              "      <td>1</td>\n",
              "      <td>1</td>\n",
              "      <td>0</td>\n",
              "      <td>0</td>\n",
              "    </tr>\n",
              "    <tr>\n",
              "      <th>1</th>\n",
              "      <td>20974</td>\n",
              "      <td>laboratory midir spectra of equilibrate and ig...</td>\n",
              "      <td>meteorites contain minerals from solar system ...</td>\n",
              "      <td>0</td>\n",
              "      <td>1</td>\n",
              "      <td>0</td>\n",
              "      <td>0</td>\n",
              "      <td>0</td>\n",
              "      <td>0</td>\n",
              "    </tr>\n",
              "    <tr>\n",
              "      <th>2</th>\n",
              "      <td>20975</td>\n",
              "      <td>case for static amsdu aggregation in wlans</td>\n",
              "      <td>frame aggregation be a mechanism by which mult...</td>\n",
              "      <td>1</td>\n",
              "      <td>0</td>\n",
              "      <td>0</td>\n",
              "      <td>0</td>\n",
              "      <td>0</td>\n",
              "      <td>0</td>\n",
              "    </tr>\n",
              "    <tr>\n",
              "      <th>3</th>\n",
              "      <td>20976</td>\n",
              "      <td>the gaia eso survey the inner disk intermediat...</td>\n",
              "      <td>milky way open cluster be very diverse in term...</td>\n",
              "      <td>0</td>\n",
              "      <td>1</td>\n",
              "      <td>0</td>\n",
              "      <td>0</td>\n",
              "      <td>0</td>\n",
              "      <td>0</td>\n",
              "    </tr>\n",
              "    <tr>\n",
              "      <th>4</th>\n",
              "      <td>20977</td>\n",
              "      <td>witnessfunctions versus interpretationfunction...</td>\n",
              "      <td>prove that a cryptographic protocol be correct...</td>\n",
              "      <td>1</td>\n",
              "      <td>0</td>\n",
              "      <td>0</td>\n",
              "      <td>0</td>\n",
              "      <td>0</td>\n",
              "      <td>0</td>\n",
              "    </tr>\n",
              "  </tbody>\n",
              "</table>\n",
              "</div>"
            ],
            "text/plain": [
              "      ID  ... Quantitative Finance\n",
              "0  20973  ...                    0\n",
              "1  20974  ...                    0\n",
              "2  20975  ...                    0\n",
              "3  20976  ...                    0\n",
              "4  20977  ...                    0\n",
              "\n",
              "[5 rows x 9 columns]"
            ]
          },
          "metadata": {
            "tags": []
          },
          "execution_count": 100
        }
      ]
    },
    {
      "cell_type": "code",
      "metadata": {
        "id": "kbxSlrqXyPv1",
        "colab_type": "code",
        "colab": {}
      },
      "source": [
        "test_df.drop([\"TITLE\",'ABSTRACT'],axis=1,inplace=True)"
      ],
      "execution_count": null,
      "outputs": []
    },
    {
      "cell_type": "code",
      "metadata": {
        "id": "ydBAwdawxprQ",
        "colab_type": "code",
        "colab": {}
      },
      "source": [
        "test_df.to_csv(\"lightgbm_v1_indep_day.csv\",index=False)"
      ],
      "execution_count": null,
      "outputs": []
    },
    {
      "cell_type": "code",
      "metadata": {
        "id": "_UbCVAaTxsDu",
        "colab_type": "code",
        "colab": {}
      },
      "source": [
        "submission = pd.read_csv(\"/content/drive/My Drive/JH_independanceDay/sample_submission_UVKGLZE.csv\")"
      ],
      "execution_count": null,
      "outputs": []
    },
    {
      "cell_type": "code",
      "metadata": {
        "id": "-H83BRlyyIKl",
        "colab_type": "code",
        "colab": {
          "base_uri": "https://localhost:8080/",
          "height": 34
        },
        "outputId": "591551ea-441f-4dbe-99c1-ca77c1eaf230"
      },
      "source": [
        "submission.shape"
      ],
      "execution_count": null,
      "outputs": [
        {
          "output_type": "execute_result",
          "data": {
            "text/plain": [
              "(8989, 7)"
            ]
          },
          "metadata": {
            "tags": []
          },
          "execution_count": 97
        }
      ]
    },
    {
      "cell_type": "code",
      "metadata": {
        "id": "MEKdr4FhyJ9P",
        "colab_type": "code",
        "colab": {
          "base_uri": "https://localhost:8080/",
          "height": 34
        },
        "outputId": "6d3a89b5-30e5-4d1c-ff31-178349d5c771"
      },
      "source": [
        "test_df.shape"
      ],
      "execution_count": null,
      "outputs": [
        {
          "output_type": "execute_result",
          "data": {
            "text/plain": [
              "(8989, 7)"
            ]
          },
          "metadata": {
            "tags": []
          },
          "execution_count": 103
        }
      ]
    },
    {
      "cell_type": "code",
      "metadata": {
        "id": "9qxwm5XRyLSa",
        "colab_type": "code",
        "colab": {
          "base_uri": "https://localhost:8080/",
          "height": 402
        },
        "outputId": "20abcf0d-f12f-42e2-bd3a-9557d16841a7"
      },
      "source": [
        "submission"
      ],
      "execution_count": null,
      "outputs": [
        {
          "output_type": "execute_result",
          "data": {
            "text/html": [
              "<div>\n",
              "<style scoped>\n",
              "    .dataframe tbody tr th:only-of-type {\n",
              "        vertical-align: middle;\n",
              "    }\n",
              "\n",
              "    .dataframe tbody tr th {\n",
              "        vertical-align: top;\n",
              "    }\n",
              "\n",
              "    .dataframe thead th {\n",
              "        text-align: right;\n",
              "    }\n",
              "</style>\n",
              "<table border=\"1\" class=\"dataframe\">\n",
              "  <thead>\n",
              "    <tr style=\"text-align: right;\">\n",
              "      <th></th>\n",
              "      <th>ID</th>\n",
              "      <th>Computer Science</th>\n",
              "      <th>Physics</th>\n",
              "      <th>Mathematics</th>\n",
              "      <th>Statistics</th>\n",
              "      <th>Quantitative Biology</th>\n",
              "      <th>Quantitative Finance</th>\n",
              "    </tr>\n",
              "  </thead>\n",
              "  <tbody>\n",
              "    <tr>\n",
              "      <th>0</th>\n",
              "      <td>20973</td>\n",
              "      <td>0</td>\n",
              "      <td>0</td>\n",
              "      <td>0</td>\n",
              "      <td>0</td>\n",
              "      <td>0</td>\n",
              "      <td>0</td>\n",
              "    </tr>\n",
              "    <tr>\n",
              "      <th>1</th>\n",
              "      <td>20974</td>\n",
              "      <td>0</td>\n",
              "      <td>0</td>\n",
              "      <td>0</td>\n",
              "      <td>0</td>\n",
              "      <td>0</td>\n",
              "      <td>0</td>\n",
              "    </tr>\n",
              "    <tr>\n",
              "      <th>2</th>\n",
              "      <td>20975</td>\n",
              "      <td>0</td>\n",
              "      <td>0</td>\n",
              "      <td>0</td>\n",
              "      <td>0</td>\n",
              "      <td>0</td>\n",
              "      <td>0</td>\n",
              "    </tr>\n",
              "    <tr>\n",
              "      <th>3</th>\n",
              "      <td>20976</td>\n",
              "      <td>0</td>\n",
              "      <td>0</td>\n",
              "      <td>0</td>\n",
              "      <td>0</td>\n",
              "      <td>0</td>\n",
              "      <td>0</td>\n",
              "    </tr>\n",
              "    <tr>\n",
              "      <th>4</th>\n",
              "      <td>20977</td>\n",
              "      <td>0</td>\n",
              "      <td>0</td>\n",
              "      <td>0</td>\n",
              "      <td>0</td>\n",
              "      <td>0</td>\n",
              "      <td>0</td>\n",
              "    </tr>\n",
              "    <tr>\n",
              "      <th>...</th>\n",
              "      <td>...</td>\n",
              "      <td>...</td>\n",
              "      <td>...</td>\n",
              "      <td>...</td>\n",
              "      <td>...</td>\n",
              "      <td>...</td>\n",
              "      <td>...</td>\n",
              "    </tr>\n",
              "    <tr>\n",
              "      <th>8984</th>\n",
              "      <td>29957</td>\n",
              "      <td>0</td>\n",
              "      <td>0</td>\n",
              "      <td>0</td>\n",
              "      <td>0</td>\n",
              "      <td>0</td>\n",
              "      <td>0</td>\n",
              "    </tr>\n",
              "    <tr>\n",
              "      <th>8985</th>\n",
              "      <td>29958</td>\n",
              "      <td>0</td>\n",
              "      <td>0</td>\n",
              "      <td>0</td>\n",
              "      <td>0</td>\n",
              "      <td>0</td>\n",
              "      <td>0</td>\n",
              "    </tr>\n",
              "    <tr>\n",
              "      <th>8986</th>\n",
              "      <td>29959</td>\n",
              "      <td>0</td>\n",
              "      <td>0</td>\n",
              "      <td>0</td>\n",
              "      <td>0</td>\n",
              "      <td>0</td>\n",
              "      <td>0</td>\n",
              "    </tr>\n",
              "    <tr>\n",
              "      <th>8987</th>\n",
              "      <td>29960</td>\n",
              "      <td>0</td>\n",
              "      <td>0</td>\n",
              "      <td>0</td>\n",
              "      <td>0</td>\n",
              "      <td>0</td>\n",
              "      <td>0</td>\n",
              "    </tr>\n",
              "    <tr>\n",
              "      <th>8988</th>\n",
              "      <td>29961</td>\n",
              "      <td>0</td>\n",
              "      <td>0</td>\n",
              "      <td>0</td>\n",
              "      <td>0</td>\n",
              "      <td>0</td>\n",
              "      <td>0</td>\n",
              "    </tr>\n",
              "  </tbody>\n",
              "</table>\n",
              "<p>8989 rows × 7 columns</p>\n",
              "</div>"
            ],
            "text/plain": [
              "         ID  Computer Science  ...  Quantitative Biology  Quantitative Finance\n",
              "0     20973                 0  ...                     0                     0\n",
              "1     20974                 0  ...                     0                     0\n",
              "2     20975                 0  ...                     0                     0\n",
              "3     20976                 0  ...                     0                     0\n",
              "4     20977                 0  ...                     0                     0\n",
              "...     ...               ...  ...                   ...                   ...\n",
              "8984  29957                 0  ...                     0                     0\n",
              "8985  29958                 0  ...                     0                     0\n",
              "8986  29959                 0  ...                     0                     0\n",
              "8987  29960                 0  ...                     0                     0\n",
              "8988  29961                 0  ...                     0                     0\n",
              "\n",
              "[8989 rows x 7 columns]"
            ]
          },
          "metadata": {
            "tags": []
          },
          "execution_count": 99
        }
      ]
    },
    {
      "cell_type": "code",
      "metadata": {
        "id": "BkuBSt-DyNDY",
        "colab_type": "code",
        "colab": {}
      },
      "source": [
        ""
      ],
      "execution_count": null,
      "outputs": []
    }
  ]
}